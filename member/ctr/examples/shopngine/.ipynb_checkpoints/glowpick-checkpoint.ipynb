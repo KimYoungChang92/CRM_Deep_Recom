{
 "cells": [
  {
   "cell_type": "code",
   "execution_count": 2,
   "metadata": {},
   "outputs": [],
   "source": [
    "import sys\n",
    "sys.path.append(\"../..\")\n",
    "\n",
    "import common\n",
    "from common import FILE_PATH\n",
    "from common import MODEL_PATH\n",
    "\n",
    "import torch\n",
    "import pandas as pd\n",
    "import numpy as np\n",
    "import matplotlib.pyplot as plt\n",
    "import seaborn as sns\n",
    "from sklearn.preprocessing import MinMaxScaler\n",
    "from sklearn.metrics import mean_squared_error\n",
    "from sklearn.model_selection import train_test_split\n",
    "\n",
    "from deepctr_torch.inputs import SparseFeat, VarLenSparseFeat, get_feature_names\n",
    "from deepctr_torch.models import DeepFM\n",
    "import pickle\n",
    "\n",
    "%load_ext autoreload\n",
    "%autoreload 2\n",
    "import product_refine\n",
    "\n",
    "st = sns.axes_style(\"whitegrid\")\n",
    "sns.set_style(\"ticks\", {\"xtick.major.size\": 8, \"ytick.major.size\": 8})\n",
    "\n",
    "plt.rcParams ['font.family'] = 'NanumGothic'\n",
    "\n",
    "import warnings\n",
    "warnings.filterwarnings(\"ignore\")"
   ]
  },
  {
   "cell_type": "markdown",
   "metadata": {},
   "source": [
    "### feather 파일로 저장되어있는 각각의 dataframe을 로드"
   ]
  },
  {
   "cell_type": "code",
   "execution_count": 3,
   "metadata": {},
   "outputs": [
    {
     "name": "stdout",
     "output_type": "stream",
     "text": [
      "CPU times: user 3.26 s, sys: 727 ms, total: 3.99 s\n",
      "Wall time: 3.77 s\n"
     ]
    }
   ],
   "source": [
    "%%time\n",
    "# feather 파일로 저장되어있는 각각의 dataframe을 읽어옴\n",
    "\n",
    "reviews = pd.read_feather (FILE_PATH + 'reviews.ftr', use_threads = True)\n",
    "users = pd.read_feather (FILE_PATH + 'users.ftr', use_threads = True)\n",
    "products = pd.read_feather (FILE_PATH + 'products.ftr', use_threads = True)\n",
    "products_brand_rank = pd.read_feather (FILE_PATH + 'products_brand_rank.ftr', use_threads = True)\n",
    "product_categories = pd.read_feather (FILE_PATH + 'product_categories.ftr', use_threads = True)"
   ]
  },
  {
   "cell_type": "markdown",
   "metadata": {},
   "source": [
    "### products  전처리"
   ]
  },
  {
   "cell_type": "code",
   "execution_count": 3,
   "metadata": {},
   "outputs": [
    {
     "name": "stdout",
     "output_type": "stream",
     "text": [
      "len del_id_list:  1317 \n",
      "\n",
      "CPU times: user 5.73 s, sys: 98 ms, total: 5.82 s\n",
      "Wall time: 5.75 s\n"
     ]
    }
   ],
   "source": [
    "%%time\n",
    "# df_products = product_refine.refine_products (products, products_brand_rank)"
   ]
  },
  {
   "cell_type": "markdown",
   "metadata": {},
   "source": [
    "#### df_products dataframe을 저장"
   ]
  },
  {
   "cell_type": "code",
   "execution_count": 4,
   "metadata": {},
   "outputs": [],
   "source": [
    "# df_products Dataframe을 저장하기 위해 index를 reset 시킴. \n",
    "# df_products Dataframe의 결측치 rows 를 삭제 했으므로, index가 연속되지 않음. 그러면 저장 안됨\n",
    "# df_products.reset_index (drop = True, inplace = True)\n",
    "\n",
    "# df_products.to_feather (FILE_PATH + 'refined_products.ftr')"
   ]
  },
  {
   "cell_type": "markdown",
   "metadata": {},
   "source": [
    "#### df_products dataframe을 파일로 부터 불러옴"
   ]
  },
  {
   "cell_type": "code",
   "execution_count": 4,
   "metadata": {},
   "outputs": [],
   "source": [
    "# products와 products_brand_rank를 merge한 dataframe\n",
    "df_products = pd.read_feather (FILE_PATH + 'refined_products.ftr', use_threads = True)"
   ]
  },
  {
   "cell_type": "code",
   "execution_count": 5,
   "metadata": {},
   "outputs": [
    {
     "data": {
      "text/html": [
       "<div>\n",
       "<style scoped>\n",
       "    .dataframe tbody tr th:only-of-type {\n",
       "        vertical-align: middle;\n",
       "    }\n",
       "\n",
       "    .dataframe tbody tr th {\n",
       "        vertical-align: top;\n",
       "    }\n",
       "\n",
       "    .dataframe thead th {\n",
       "        text-align: right;\n",
       "    }\n",
       "</style>\n",
       "<table border=\"1\" class=\"dataframe\">\n",
       "  <thead>\n",
       "    <tr style=\"text-align: right;\">\n",
       "      <th></th>\n",
       "      <th>product_id</th>\n",
       "      <th>productTitle</th>\n",
       "      <th>price</th>\n",
       "      <th>volume</th>\n",
       "      <th>description</th>\n",
       "      <th>ratingAvg</th>\n",
       "      <th>wishCount</th>\n",
       "      <th>reviewCount</th>\n",
       "      <th>firstCategoryText</th>\n",
       "      <th>idFirstCategory</th>\n",
       "      <th>idSecondCategory</th>\n",
       "      <th>idThirdCategory</th>\n",
       "      <th>secondCategoryText</th>\n",
       "      <th>thirdCategoryText</th>\n",
       "      <th>rank</th>\n",
       "      <th>brand</th>\n",
       "      <th>brandName</th>\n",
       "    </tr>\n",
       "  </thead>\n",
       "  <tbody>\n",
       "    <tr>\n",
       "      <th>0</th>\n",
       "      <td>108711</td>\n",
       "      <td>코스메티 LED 마스크</td>\n",
       "      <td>219000.0</td>\n",
       "      <td>1ea</td>\n",
       "      <td>안면리프팅, 눈가탄력개선, 전피치밀도 수분개선 등에 도움을 주는 제품</td>\n",
       "      <td>3.75</td>\n",
       "      <td>2</td>\n",
       "      <td>4</td>\n",
       "      <td>디바이스</td>\n",
       "      <td>16</td>\n",
       "      <td>85</td>\n",
       "      <td>255</td>\n",
       "      <td>뷰티디바이스</td>\n",
       "      <td>LED마스크</td>\n",
       "      <td>5</td>\n",
       "      <td>{'idBrand': None, 'brandTitle': '아름다운연구소', 'br...</td>\n",
       "      <td>아름다운연구소</td>\n",
       "    </tr>\n",
       "    <tr>\n",
       "      <th>1</th>\n",
       "      <td>118971</td>\n",
       "      <td>LED 마스크</td>\n",
       "      <td>149000.0</td>\n",
       "      <td>1ea</td>\n",
       "      <td>가장 적정거리의 96개의 LED로 피부 침투율을 높여주는 LED 마스크\\n\\n- 둥...</td>\n",
       "      <td>3.75</td>\n",
       "      <td>0</td>\n",
       "      <td>4</td>\n",
       "      <td>디바이스</td>\n",
       "      <td>16</td>\n",
       "      <td>85</td>\n",
       "      <td>255</td>\n",
       "      <td>뷰티디바이스</td>\n",
       "      <td>LED마스크</td>\n",
       "      <td>6</td>\n",
       "      <td>{'idBrand': None, 'brandTitle': '에끌레어 (eclair)...</td>\n",
       "      <td>에끌레어 (eclair)</td>\n",
       "    </tr>\n",
       "    <tr>\n",
       "      <th>2</th>\n",
       "      <td>118819</td>\n",
       "      <td>디쎄 1.0 LED 마스크 [업무용]</td>\n",
       "      <td>1320000.0</td>\n",
       "      <td>1ea</td>\n",
       "      <td>하루 한 번 자기전 15분 사용으로 전문적인 케어\\r\\n\\r\\n- 3가지 파장으로 ...</td>\n",
       "      <td>5.00</td>\n",
       "      <td>2</td>\n",
       "      <td>1</td>\n",
       "      <td>디바이스</td>\n",
       "      <td>16</td>\n",
       "      <td>85</td>\n",
       "      <td>255</td>\n",
       "      <td>뷰티디바이스</td>\n",
       "      <td>LED마스크</td>\n",
       "      <td>7</td>\n",
       "      <td>{'idBrand': None, 'brandTitle': '닥터슈라클 (Dr.Ceu...</td>\n",
       "      <td>닥터슈라클 (Dr.Ceuracle)</td>\n",
       "    </tr>\n",
       "  </tbody>\n",
       "</table>\n",
       "</div>"
      ],
      "text/plain": [
       "  product_id          productTitle      price volume  \\\n",
       "0     108711          코스메티 LED 마스크   219000.0    1ea   \n",
       "1     118971               LED 마스크   149000.0    1ea   \n",
       "2     118819  디쎄 1.0 LED 마스크 [업무용]  1320000.0    1ea   \n",
       "\n",
       "                                         description  ratingAvg  wishCount  \\\n",
       "0             안면리프팅, 눈가탄력개선, 전피치밀도 수분개선 등에 도움을 주는 제품       3.75          2   \n",
       "1  가장 적정거리의 96개의 LED로 피부 침투율을 높여주는 LED 마스크\\n\\n- 둥...       3.75          0   \n",
       "2  하루 한 번 자기전 15분 사용으로 전문적인 케어\\r\\n\\r\\n- 3가지 파장으로 ...       5.00          2   \n",
       "\n",
       "   reviewCount firstCategoryText  idFirstCategory  idSecondCategory  \\\n",
       "0            4              디바이스               16                85   \n",
       "1            4              디바이스               16                85   \n",
       "2            1              디바이스               16                85   \n",
       "\n",
       "   idThirdCategory secondCategoryText thirdCategoryText  rank  \\\n",
       "0              255             뷰티디바이스            LED마스크     5   \n",
       "1              255             뷰티디바이스            LED마스크     6   \n",
       "2              255             뷰티디바이스            LED마스크     7   \n",
       "\n",
       "                                               brand            brandName  \n",
       "0  {'idBrand': None, 'brandTitle': '아름다운연구소', 'br...              아름다운연구소  \n",
       "1  {'idBrand': None, 'brandTitle': '에끌레어 (eclair)...        에끌레어 (eclair)  \n",
       "2  {'idBrand': None, 'brandTitle': '닥터슈라클 (Dr.Ceu...  닥터슈라클 (Dr.Ceuracle)  "
      ]
     },
     "execution_count": 5,
     "metadata": {},
     "output_type": "execute_result"
    }
   ],
   "source": [
    "df_products.head (3)"
   ]
  },
  {
   "cell_type": "code",
   "execution_count": 6,
   "metadata": {},
   "outputs": [
    {
     "data": {
      "text/plain": [
       "product_id            0\n",
       "productTitle          0\n",
       "price                 0\n",
       "volume                0\n",
       "description           0\n",
       "ratingAvg             0\n",
       "wishCount             0\n",
       "reviewCount           0\n",
       "firstCategoryText     0\n",
       "idFirstCategory       0\n",
       "idSecondCategory      0\n",
       "idThirdCategory       0\n",
       "secondCategoryText    0\n",
       "thirdCategoryText     0\n",
       "rank                  0\n",
       "brand                 0\n",
       "brandName             0\n",
       "dtype: int64"
      ]
     },
     "execution_count": 6,
     "metadata": {},
     "output_type": "execute_result"
    }
   ],
   "source": [
    "df_products.isnull ().sum ()"
   ]
  },
  {
   "cell_type": "code",
   "execution_count": 7,
   "metadata": {},
   "outputs": [
    {
     "name": "stdout",
     "output_type": "stream",
     "text": [
      "<class 'pandas.core.frame.DataFrame'>\n",
      "RangeIndex: 86184 entries, 0 to 86183\n",
      "Data columns (total 17 columns):\n",
      " #   Column              Non-Null Count  Dtype  \n",
      "---  ------              --------------  -----  \n",
      " 0   product_id          86184 non-null  object \n",
      " 1   productTitle        86184 non-null  object \n",
      " 2   price               86184 non-null  float64\n",
      " 3   volume              86184 non-null  object \n",
      " 4   description         86184 non-null  object \n",
      " 5   ratingAvg           86184 non-null  float64\n",
      " 6   wishCount           86184 non-null  int64  \n",
      " 7   reviewCount         86184 non-null  int64  \n",
      " 8   firstCategoryText   86184 non-null  object \n",
      " 9   idFirstCategory     86184 non-null  int64  \n",
      " 10  idSecondCategory    86184 non-null  int64  \n",
      " 11  idThirdCategory     86184 non-null  int64  \n",
      " 12  secondCategoryText  86184 non-null  object \n",
      " 13  thirdCategoryText   86184 non-null  object \n",
      " 14  rank                86184 non-null  int64  \n",
      " 15  brand               86184 non-null  object \n",
      " 16  brandName           86184 non-null  object \n",
      "dtypes: float64(2), int64(6), object(9)\n",
      "memory usage: 11.2+ MB\n"
     ]
    }
   ],
   "source": [
    "df_products.info ()"
   ]
  },
  {
   "cell_type": "code",
   "execution_count": 8,
   "metadata": {},
   "outputs": [
    {
     "data": {
      "text/html": [
       "<div>\n",
       "<style scoped>\n",
       "    .dataframe tbody tr th:only-of-type {\n",
       "        vertical-align: middle;\n",
       "    }\n",
       "\n",
       "    .dataframe tbody tr th {\n",
       "        vertical-align: top;\n",
       "    }\n",
       "\n",
       "    .dataframe thead th {\n",
       "        text-align: right;\n",
       "    }\n",
       "</style>\n",
       "<table border=\"1\" class=\"dataframe\">\n",
       "  <thead>\n",
       "    <tr style=\"text-align: right;\">\n",
       "      <th></th>\n",
       "      <th>age</th>\n",
       "      <th>birth_year</th>\n",
       "      <th>email</th>\n",
       "      <th>gender</th>\n",
       "      <th>is_blinded</th>\n",
       "      <th>is_closed</th>\n",
       "      <th>is_inactivated</th>\n",
       "      <th>nickname</th>\n",
       "      <th>profile_image</th>\n",
       "      <th>rank</th>\n",
       "      <th>review_count</th>\n",
       "      <th>skin_type</th>\n",
       "      <th>user_id</th>\n",
       "    </tr>\n",
       "  </thead>\n",
       "  <tbody>\n",
       "    <tr>\n",
       "      <th>0</th>\n",
       "      <td>31.0</td>\n",
       "      <td>1990.0</td>\n",
       "      <td>yhcu88@naver.com</td>\n",
       "      <td>f</td>\n",
       "      <td>0</td>\n",
       "      <td>False</td>\n",
       "      <td>False</td>\n",
       "      <td>희뷰리</td>\n",
       "      <td>https://d9vmi5fxk1gsw.cloudfront.net/prod/regi...</td>\n",
       "      <td>27347</td>\n",
       "      <td>44</td>\n",
       "      <td>복합성</td>\n",
       "      <td>1281918</td>\n",
       "    </tr>\n",
       "    <tr>\n",
       "      <th>1</th>\n",
       "      <td>33.0</td>\n",
       "      <td>1988.0</td>\n",
       "      <td>winwinanna@hanmail.net</td>\n",
       "      <td>f</td>\n",
       "      <td>0</td>\n",
       "      <td>False</td>\n",
       "      <td>False</td>\n",
       "      <td>소극적인뷰터</td>\n",
       "      <td>None</td>\n",
       "      <td>41582</td>\n",
       "      <td>15</td>\n",
       "      <td>건성</td>\n",
       "      <td>1255686</td>\n",
       "    </tr>\n",
       "    <tr>\n",
       "      <th>2</th>\n",
       "      <td>37.0</td>\n",
       "      <td>1984.0</td>\n",
       "      <td>dmswjddlskfk@hanmail.net</td>\n",
       "      <td>f</td>\n",
       "      <td>0</td>\n",
       "      <td>False</td>\n",
       "      <td>False</td>\n",
       "      <td>greengables</td>\n",
       "      <td>https://d9vmi5fxk1gsw.cloudfront.net/home/glow...</td>\n",
       "      <td>946</td>\n",
       "      <td>375</td>\n",
       "      <td>지성</td>\n",
       "      <td>631689</td>\n",
       "    </tr>\n",
       "    <tr>\n",
       "      <th>3</th>\n",
       "      <td>32.0</td>\n",
       "      <td>1989.0</td>\n",
       "      <td>deer402@naver.com</td>\n",
       "      <td>f</td>\n",
       "      <td>0</td>\n",
       "      <td>False</td>\n",
       "      <td>True</td>\n",
       "      <td>백비송</td>\n",
       "      <td>https://d9vmi5fxk1gsw.cloudfront.net/prod/regi...</td>\n",
       "      <td>43404</td>\n",
       "      <td>29</td>\n",
       "      <td>건성</td>\n",
       "      <td>1188087</td>\n",
       "    </tr>\n",
       "    <tr>\n",
       "      <th>4</th>\n",
       "      <td>26.0</td>\n",
       "      <td>1995.0</td>\n",
       "      <td>kkr3348@naver.com</td>\n",
       "      <td>f</td>\n",
       "      <td>0</td>\n",
       "      <td>False</td>\n",
       "      <td>False</td>\n",
       "      <td>초코감귤</td>\n",
       "      <td>https://d9vmi5fxk1gsw.cloudfront.net/home/glow...</td>\n",
       "      <td>9386</td>\n",
       "      <td>97</td>\n",
       "      <td>복합성</td>\n",
       "      <td>632220</td>\n",
       "    </tr>\n",
       "  </tbody>\n",
       "</table>\n",
       "</div>"
      ],
      "text/plain": [
       "    age  birth_year                     email gender  is_blinded  is_closed  \\\n",
       "0  31.0      1990.0          yhcu88@naver.com      f           0      False   \n",
       "1  33.0      1988.0    winwinanna@hanmail.net      f           0      False   \n",
       "2  37.0      1984.0  dmswjddlskfk@hanmail.net      f           0      False   \n",
       "3  32.0      1989.0         deer402@naver.com      f           0      False   \n",
       "4  26.0      1995.0         kkr3348@naver.com      f           0      False   \n",
       "\n",
       "   is_inactivated     nickname  \\\n",
       "0           False          희뷰리   \n",
       "1           False       소극적인뷰터   \n",
       "2           False  greengables   \n",
       "3            True          백비송   \n",
       "4           False         초코감귤   \n",
       "\n",
       "                                       profile_image   rank  review_count  \\\n",
       "0  https://d9vmi5fxk1gsw.cloudfront.net/prod/regi...  27347            44   \n",
       "1                                               None  41582            15   \n",
       "2  https://d9vmi5fxk1gsw.cloudfront.net/home/glow...    946           375   \n",
       "3  https://d9vmi5fxk1gsw.cloudfront.net/prod/regi...  43404            29   \n",
       "4  https://d9vmi5fxk1gsw.cloudfront.net/home/glow...   9386            97   \n",
       "\n",
       "  skin_type  user_id  \n",
       "0       복합성  1281918  \n",
       "1        건성  1255686  \n",
       "2        지성   631689  \n",
       "3        건성  1188087  \n",
       "4       복합성   632220  "
      ]
     },
     "execution_count": 8,
     "metadata": {},
     "output_type": "execute_result"
    }
   ],
   "source": [
    "users.head ()"
   ]
  },
  {
   "cell_type": "code",
   "execution_count": 10,
   "metadata": {},
   "outputs": [
    {
     "data": {
      "text/plain": [
       "79"
      ]
     },
     "execution_count": 10,
     "metadata": {},
     "output_type": "execute_result"
    }
   ],
   "source": [
    "len (users ['age'].unique ())"
   ]
  },
  {
   "cell_type": "code",
   "execution_count": 11,
   "metadata": {},
   "outputs": [
    {
     "data": {
      "text/plain": [
       " 57.0      14\n",
       " 121.0     11\n",
       " 58.0      11\n",
       " 7.0       11\n",
       " 12.0      10\n",
       " 3.0        9\n",
       " 2.0        9\n",
       " 60.0       8\n",
       " 104.0      6\n",
       " 62.0       5\n",
       " 61.0       5\n",
       " 11.0       5\n",
       " 101.0      5\n",
       " 59.0       4\n",
       " 72.0       2\n",
       " 103.0      2\n",
       " 71.0       2\n",
       " 102.0      2\n",
       " 64.0       2\n",
       " 8.0        2\n",
       " 63.0       2\n",
       " 105.0      2\n",
       "-518.0      1\n",
       " 67.0       1\n",
       " 70.0       1\n",
       " 9.0        1\n",
       " 89.0       1\n",
       " 98.0       1\n",
       " 2016.0     1\n",
       " 68.0       1\n",
       " 2018.0     1\n",
       " 1995.0     1\n",
       "Name: age, dtype: int64"
      ]
     },
     "execution_count": 11,
     "metadata": {},
     "output_type": "execute_result"
    }
   ],
   "source": [
    "# 100세 이상, 음수나이, 연도를 나이로 입력한듯한 나이(2016, 2018, 1995)등이 보임\n",
    "users ['age'].value_counts ().tail (32)"
   ]
  },
  {
   "cell_type": "code",
   "execution_count": 9,
   "metadata": {},
   "outputs": [
    {
     "name": "stdout",
     "output_type": "stream",
     "text": [
      "<class 'pandas.core.frame.DataFrame'>\n",
      "RangeIndex: 76490 entries, 0 to 76489\n",
      "Data columns (total 13 columns):\n",
      " #   Column          Non-Null Count  Dtype  \n",
      "---  ------          --------------  -----  \n",
      " 0   age             76489 non-null  float64\n",
      " 1   birth_year      76489 non-null  float64\n",
      " 2   email           76490 non-null  object \n",
      " 3   gender          76490 non-null  object \n",
      " 4   is_blinded      76490 non-null  int64  \n",
      " 5   is_closed       76490 non-null  bool   \n",
      " 6   is_inactivated  76490 non-null  bool   \n",
      " 7   nickname        76489 non-null  object \n",
      " 8   profile_image   44893 non-null  object \n",
      " 9   rank            76490 non-null  int64  \n",
      " 10  review_count    76490 non-null  int64  \n",
      " 11  skin_type       76490 non-null  object \n",
      " 12  user_id         76490 non-null  object \n",
      "dtypes: bool(2), float64(2), int64(3), object(6)\n",
      "memory usage: 6.6+ MB\n"
     ]
    }
   ],
   "source": [
    "users.info ()"
   ]
  },
  {
   "cell_type": "code",
   "execution_count": 10,
   "metadata": {},
   "outputs": [
    {
     "name": "stdout",
     "output_type": "stream",
     "text": [
      "<class 'pandas.core.frame.DataFrame'>\n",
      "Int64Index: 76456 entries, 0 to 76489\n",
      "Data columns (total 13 columns):\n",
      " #   Column          Non-Null Count  Dtype  \n",
      "---  ------          --------------  -----  \n",
      " 0   age             76456 non-null  float64\n",
      " 1   birth_year      76456 non-null  float64\n",
      " 2   email           76456 non-null  object \n",
      " 3   gender          76456 non-null  object \n",
      " 4   is_blinded      76456 non-null  int64  \n",
      " 5   is_closed       76456 non-null  bool   \n",
      " 6   is_inactivated  76456 non-null  bool   \n",
      " 7   nickname        76455 non-null  object \n",
      " 8   profile_image   44871 non-null  object \n",
      " 9   rank            76456 non-null  int64  \n",
      " 10  review_count    76456 non-null  int64  \n",
      " 11  skin_type       76456 non-null  object \n",
      " 12  user_id         76456 non-null  object \n",
      "dtypes: bool(2), float64(2), int64(3), object(6)\n",
      "memory usage: 7.1+ MB\n"
     ]
    }
   ],
   "source": [
    "# 0세 ~ 90세 회원 정보만 뽑아냄.  음수나이와 90세 이상은 제외\n",
    "users = users [(users ['age'] < 90) & (users ['age'] > 0)]\n",
    "users.info ()"
   ]
  },
  {
   "cell_type": "code",
   "execution_count": 11,
   "metadata": {},
   "outputs": [
    {
     "data": {
      "text/html": [
       "<div>\n",
       "<style scoped>\n",
       "    .dataframe tbody tr th:only-of-type {\n",
       "        vertical-align: middle;\n",
       "    }\n",
       "\n",
       "    .dataframe tbody tr th {\n",
       "        vertical-align: top;\n",
       "    }\n",
       "\n",
       "    .dataframe thead th {\n",
       "        text-align: right;\n",
       "    }\n",
       "</style>\n",
       "<table border=\"1\" class=\"dataframe\">\n",
       "  <thead>\n",
       "    <tr style=\"text-align: right;\">\n",
       "      <th></th>\n",
       "      <th>age</th>\n",
       "      <th>birth_year</th>\n",
       "      <th>is_blinded</th>\n",
       "      <th>rank</th>\n",
       "      <th>review_count</th>\n",
       "    </tr>\n",
       "  </thead>\n",
       "  <tbody>\n",
       "    <tr>\n",
       "      <th>count</th>\n",
       "      <td>76456.000000</td>\n",
       "      <td>76456.000000</td>\n",
       "      <td>76456.0</td>\n",
       "      <td>7.645600e+04</td>\n",
       "      <td>76456.000000</td>\n",
       "    </tr>\n",
       "    <tr>\n",
       "      <th>mean</th>\n",
       "      <td>25.250118</td>\n",
       "      <td>1995.749882</td>\n",
       "      <td>0.0</td>\n",
       "      <td>6.909060e+04</td>\n",
       "      <td>41.476823</td>\n",
       "    </tr>\n",
       "    <tr>\n",
       "      <th>std</th>\n",
       "      <td>5.984109</td>\n",
       "      <td>5.984109</td>\n",
       "      <td>0.0</td>\n",
       "      <td>5.044060e+05</td>\n",
       "      <td>56.878904</td>\n",
       "    </tr>\n",
       "    <tr>\n",
       "      <th>min</th>\n",
       "      <td>2.000000</td>\n",
       "      <td>1932.000000</td>\n",
       "      <td>0.0</td>\n",
       "      <td>1.000000e+00</td>\n",
       "      <td>-46.000000</td>\n",
       "    </tr>\n",
       "    <tr>\n",
       "      <th>25%</th>\n",
       "      <td>21.000000</td>\n",
       "      <td>1993.000000</td>\n",
       "      <td>0.0</td>\n",
       "      <td>1.853600e+04</td>\n",
       "      <td>10.000000</td>\n",
       "    </tr>\n",
       "    <tr>\n",
       "      <th>50%</th>\n",
       "      <td>25.000000</td>\n",
       "      <td>1996.000000</td>\n",
       "      <td>0.0</td>\n",
       "      <td>3.840400e+04</td>\n",
       "      <td>26.000000</td>\n",
       "    </tr>\n",
       "    <tr>\n",
       "      <th>75%</th>\n",
       "      <td>28.000000</td>\n",
       "      <td>2000.000000</td>\n",
       "      <td>0.0</td>\n",
       "      <td>6.279600e+04</td>\n",
       "      <td>51.000000</td>\n",
       "    </tr>\n",
       "    <tr>\n",
       "      <th>max</th>\n",
       "      <td>89.000000</td>\n",
       "      <td>2019.000000</td>\n",
       "      <td>0.0</td>\n",
       "      <td>9.999999e+06</td>\n",
       "      <td>2003.000000</td>\n",
       "    </tr>\n",
       "  </tbody>\n",
       "</table>\n",
       "</div>"
      ],
      "text/plain": [
       "                age    birth_year  is_blinded          rank  review_count\n",
       "count  76456.000000  76456.000000     76456.0  7.645600e+04  76456.000000\n",
       "mean      25.250118   1995.749882         0.0  6.909060e+04     41.476823\n",
       "std        5.984109      5.984109         0.0  5.044060e+05     56.878904\n",
       "min        2.000000   1932.000000         0.0  1.000000e+00    -46.000000\n",
       "25%       21.000000   1993.000000         0.0  1.853600e+04     10.000000\n",
       "50%       25.000000   1996.000000         0.0  3.840400e+04     26.000000\n",
       "75%       28.000000   2000.000000         0.0  6.279600e+04     51.000000\n",
       "max       89.000000   2019.000000         0.0  9.999999e+06   2003.000000"
      ]
     },
     "execution_count": 11,
     "metadata": {},
     "output_type": "execute_result"
    }
   ],
   "source": [
    "users.describe ()"
   ]
  },
  {
   "cell_type": "code",
   "execution_count": null,
   "metadata": {},
   "outputs": [],
   "source": []
  },
  {
   "cell_type": "markdown",
   "metadata": {},
   "source": [
    "### Merge reviews and  users"
   ]
  },
  {
   "cell_type": "code",
   "execution_count": 12,
   "metadata": {},
   "outputs": [
    {
     "data": {
      "text/html": [
       "<div>\n",
       "<style scoped>\n",
       "    .dataframe tbody tr th:only-of-type {\n",
       "        vertical-align: middle;\n",
       "    }\n",
       "\n",
       "    .dataframe tbody tr th {\n",
       "        vertical-align: top;\n",
       "    }\n",
       "\n",
       "    .dataframe thead th {\n",
       "        text-align: right;\n",
       "    }\n",
       "</style>\n",
       "<table border=\"1\" class=\"dataframe\">\n",
       "  <thead>\n",
       "    <tr style=\"text-align: right;\">\n",
       "      <th></th>\n",
       "      <th>contents</th>\n",
       "      <th>created_at</th>\n",
       "      <th>is_evaluation</th>\n",
       "      <th>like_count</th>\n",
       "      <th>rating</th>\n",
       "      <th>review_id</th>\n",
       "      <th>state</th>\n",
       "      <th>user_id</th>\n",
       "      <th>product_id</th>\n",
       "      <th>age</th>\n",
       "      <th>...</th>\n",
       "      <th>email</th>\n",
       "      <th>gender</th>\n",
       "      <th>is_blinded</th>\n",
       "      <th>is_closed</th>\n",
       "      <th>is_inactivated</th>\n",
       "      <th>nickname</th>\n",
       "      <th>profile_image</th>\n",
       "      <th>rank</th>\n",
       "      <th>review_count</th>\n",
       "      <th>skin_type</th>\n",
       "    </tr>\n",
       "  </thead>\n",
       "  <tbody>\n",
       "    <tr>\n",
       "      <th>0</th>\n",
       "      <td>티 컬렉션으로 출시되었던 제품으로, 가벼운 녹차향이 납니다. 향 자체는 좀 날리는 ...</td>\n",
       "      <td>2020-04-30T02:12:36Z</td>\n",
       "      <td>False</td>\n",
       "      <td>0</td>\n",
       "      <td>3</td>\n",
       "      <td>5416271</td>\n",
       "      <td>N</td>\n",
       "      <td>119763</td>\n",
       "      <td>100000</td>\n",
       "      <td>36.0</td>\n",
       "      <td>...</td>\n",
       "      <td>intears23@naver.com</td>\n",
       "      <td>f</td>\n",
       "      <td>0.0</td>\n",
       "      <td>False</td>\n",
       "      <td>False</td>\n",
       "      <td>kyo</td>\n",
       "      <td>https://d9vmi5fxk1gsw.cloudfront.net/home/glow...</td>\n",
       "      <td>2914.0</td>\n",
       "      <td>205.0</td>\n",
       "      <td>복합성</td>\n",
       "    </tr>\n",
       "    <tr>\n",
       "      <th>1</th>\n",
       "      <td>살짝 로션같이 짜지고 묽음.\\r\\n향은 독하지 않고 적절히 향긋함.\\r\\n거품잘남\\...</td>\n",
       "      <td>2020-03-15T09:08:20Z</td>\n",
       "      <td>False</td>\n",
       "      <td>0</td>\n",
       "      <td>4</td>\n",
       "      <td>5340616</td>\n",
       "      <td>N</td>\n",
       "      <td>338669</td>\n",
       "      <td>100000</td>\n",
       "      <td>38.0</td>\n",
       "      <td>...</td>\n",
       "      <td>hihearyeong@naver.com</td>\n",
       "      <td>f</td>\n",
       "      <td>0.0</td>\n",
       "      <td>False</td>\n",
       "      <td>False</td>\n",
       "      <td>뭐라</td>\n",
       "      <td>https://d9vmi5fxk1gsw.cloudfront.net/prod/regi...</td>\n",
       "      <td>1023.0</td>\n",
       "      <td>285.0</td>\n",
       "      <td>중성</td>\n",
       "    </tr>\n",
       "    <tr>\n",
       "      <th>2</th>\n",
       "      <td>해피바스는 무난하고 순한 매력이 있음! 다른것들도 잘 썼지만 정말 무난함,, 그치만...</td>\n",
       "      <td>2020-01-21T01:29:44Z</td>\n",
       "      <td>False</td>\n",
       "      <td>0</td>\n",
       "      <td>3</td>\n",
       "      <td>5228598</td>\n",
       "      <td>N</td>\n",
       "      <td>24862</td>\n",
       "      <td>100000</td>\n",
       "      <td>28.0</td>\n",
       "      <td>...</td>\n",
       "      <td>leemj1993@naver.com</td>\n",
       "      <td>f</td>\n",
       "      <td>0.0</td>\n",
       "      <td>False</td>\n",
       "      <td>False</td>\n",
       "      <td>민졍</td>\n",
       "      <td>None</td>\n",
       "      <td>2292.0</td>\n",
       "      <td>230.0</td>\n",
       "      <td>복합성</td>\n",
       "    </tr>\n",
       "  </tbody>\n",
       "</table>\n",
       "<p>3 rows × 21 columns</p>\n",
       "</div>"
      ],
      "text/plain": [
       "                                            contents            created_at  \\\n",
       "0  티 컬렉션으로 출시되었던 제품으로, 가벼운 녹차향이 납니다. 향 자체는 좀 날리는 ...  2020-04-30T02:12:36Z   \n",
       "1  살짝 로션같이 짜지고 묽음.\\r\\n향은 독하지 않고 적절히 향긋함.\\r\\n거품잘남\\...  2020-03-15T09:08:20Z   \n",
       "2  해피바스는 무난하고 순한 매력이 있음! 다른것들도 잘 썼지만 정말 무난함,, 그치만...  2020-01-21T01:29:44Z   \n",
       "\n",
       "   is_evaluation  like_count  rating review_id state user_id product_id   age  \\\n",
       "0          False           0       3   5416271     N  119763     100000  36.0   \n",
       "1          False           0       4   5340616     N  338669     100000  38.0   \n",
       "2          False           0       3   5228598     N   24862     100000  28.0   \n",
       "\n",
       "   ...                  email gender is_blinded  is_closed is_inactivated  \\\n",
       "0  ...    intears23@naver.com      f        0.0      False          False   \n",
       "1  ...  hihearyeong@naver.com      f        0.0      False          False   \n",
       "2  ...    leemj1993@naver.com      f        0.0      False          False   \n",
       "\n",
       "  nickname                                      profile_image    rank  \\\n",
       "0      kyo  https://d9vmi5fxk1gsw.cloudfront.net/home/glow...  2914.0   \n",
       "1       뭐라  https://d9vmi5fxk1gsw.cloudfront.net/prod/regi...  1023.0   \n",
       "2       민졍                                               None  2292.0   \n",
       "\n",
       "   review_count  skin_type  \n",
       "0         205.0        복합성  \n",
       "1         285.0         중성  \n",
       "2         230.0        복합성  \n",
       "\n",
       "[3 rows x 21 columns]"
      ]
     },
     "execution_count": 12,
     "metadata": {},
     "output_type": "execute_result"
    }
   ],
   "source": [
    "review_user_df = pd.merge (reviews, users, how = 'left', on = 'user_id')\n",
    "review_user_df.head (3)"
   ]
  },
  {
   "cell_type": "code",
   "execution_count": 16,
   "metadata": {},
   "outputs": [
    {
     "data": {
      "text/plain": [
       "1574817"
      ]
     },
     "execution_count": 16,
     "metadata": {},
     "output_type": "execute_result"
    }
   ],
   "source": [
    "len (reviews)"
   ]
  },
  {
   "cell_type": "code",
   "execution_count": 17,
   "metadata": {},
   "outputs": [
    {
     "data": {
      "text/plain": [
       "1574817"
      ]
     },
     "execution_count": 17,
     "metadata": {},
     "output_type": "execute_result"
    }
   ],
   "source": [
    "len (review_user_df)"
   ]
  },
  {
   "cell_type": "code",
   "execution_count": null,
   "metadata": {},
   "outputs": [],
   "source": []
  },
  {
   "cell_type": "markdown",
   "metadata": {},
   "source": [
    "### Merge review_user_df and  df_products"
   ]
  },
  {
   "cell_type": "code",
   "execution_count": 13,
   "metadata": {},
   "outputs": [
    {
     "data": {
      "text/html": [
       "<div>\n",
       "<style scoped>\n",
       "    .dataframe tbody tr th:only-of-type {\n",
       "        vertical-align: middle;\n",
       "    }\n",
       "\n",
       "    .dataframe tbody tr th {\n",
       "        vertical-align: top;\n",
       "    }\n",
       "\n",
       "    .dataframe thead th {\n",
       "        text-align: right;\n",
       "    }\n",
       "</style>\n",
       "<table border=\"1\" class=\"dataframe\">\n",
       "  <thead>\n",
       "    <tr style=\"text-align: right;\">\n",
       "      <th></th>\n",
       "      <th>contents</th>\n",
       "      <th>created_at</th>\n",
       "      <th>is_evaluation</th>\n",
       "      <th>like_count</th>\n",
       "      <th>rating</th>\n",
       "      <th>review_id</th>\n",
       "      <th>state</th>\n",
       "      <th>user_id</th>\n",
       "      <th>product_id</th>\n",
       "      <th>age</th>\n",
       "      <th>...</th>\n",
       "      <th>reviewCount</th>\n",
       "      <th>firstCategoryText</th>\n",
       "      <th>idFirstCategory</th>\n",
       "      <th>idSecondCategory</th>\n",
       "      <th>idThirdCategory</th>\n",
       "      <th>secondCategoryText</th>\n",
       "      <th>thirdCategoryText</th>\n",
       "      <th>rank_y</th>\n",
       "      <th>brand</th>\n",
       "      <th>brandName</th>\n",
       "    </tr>\n",
       "  </thead>\n",
       "  <tbody>\n",
       "    <tr>\n",
       "      <th>0</th>\n",
       "      <td>티 컬렉션으로 출시되었던 제품으로, 가벼운 녹차향이 납니다. 향 자체는 좀 날리는 ...</td>\n",
       "      <td>2020-04-30T02:12:36Z</td>\n",
       "      <td>False</td>\n",
       "      <td>0</td>\n",
       "      <td>3</td>\n",
       "      <td>5416271</td>\n",
       "      <td>N</td>\n",
       "      <td>119763</td>\n",
       "      <td>100000</td>\n",
       "      <td>36.0</td>\n",
       "      <td>...</td>\n",
       "      <td>12.0</td>\n",
       "      <td>클렌징</td>\n",
       "      <td>7.0</td>\n",
       "      <td>32.0</td>\n",
       "      <td>112.0</td>\n",
       "      <td>페이셜클렌저</td>\n",
       "      <td>클렌징폼</td>\n",
       "      <td>386.0</td>\n",
       "      <td>{'idBrand': None, 'brandTitle': '해피바스 (HAPPY B...</td>\n",
       "      <td>해피바스 (HAPPY BATH)</td>\n",
       "    </tr>\n",
       "    <tr>\n",
       "      <th>1</th>\n",
       "      <td>살짝 로션같이 짜지고 묽음.\\r\\n향은 독하지 않고 적절히 향긋함.\\r\\n거품잘남\\...</td>\n",
       "      <td>2020-03-15T09:08:20Z</td>\n",
       "      <td>False</td>\n",
       "      <td>0</td>\n",
       "      <td>4</td>\n",
       "      <td>5340616</td>\n",
       "      <td>N</td>\n",
       "      <td>338669</td>\n",
       "      <td>100000</td>\n",
       "      <td>38.0</td>\n",
       "      <td>...</td>\n",
       "      <td>12.0</td>\n",
       "      <td>클렌징</td>\n",
       "      <td>7.0</td>\n",
       "      <td>32.0</td>\n",
       "      <td>112.0</td>\n",
       "      <td>페이셜클렌저</td>\n",
       "      <td>클렌징폼</td>\n",
       "      <td>386.0</td>\n",
       "      <td>{'idBrand': None, 'brandTitle': '해피바스 (HAPPY B...</td>\n",
       "      <td>해피바스 (HAPPY BATH)</td>\n",
       "    </tr>\n",
       "    <tr>\n",
       "      <th>2</th>\n",
       "      <td>해피바스는 무난하고 순한 매력이 있음! 다른것들도 잘 썼지만 정말 무난함,, 그치만...</td>\n",
       "      <td>2020-01-21T01:29:44Z</td>\n",
       "      <td>False</td>\n",
       "      <td>0</td>\n",
       "      <td>3</td>\n",
       "      <td>5228598</td>\n",
       "      <td>N</td>\n",
       "      <td>24862</td>\n",
       "      <td>100000</td>\n",
       "      <td>28.0</td>\n",
       "      <td>...</td>\n",
       "      <td>12.0</td>\n",
       "      <td>클렌징</td>\n",
       "      <td>7.0</td>\n",
       "      <td>32.0</td>\n",
       "      <td>112.0</td>\n",
       "      <td>페이셜클렌저</td>\n",
       "      <td>클렌징폼</td>\n",
       "      <td>386.0</td>\n",
       "      <td>{'idBrand': None, 'brandTitle': '해피바스 (HAPPY B...</td>\n",
       "      <td>해피바스 (HAPPY BATH)</td>\n",
       "    </tr>\n",
       "  </tbody>\n",
       "</table>\n",
       "<p>3 rows × 37 columns</p>\n",
       "</div>"
      ],
      "text/plain": [
       "                                            contents            created_at  \\\n",
       "0  티 컬렉션으로 출시되었던 제품으로, 가벼운 녹차향이 납니다. 향 자체는 좀 날리는 ...  2020-04-30T02:12:36Z   \n",
       "1  살짝 로션같이 짜지고 묽음.\\r\\n향은 독하지 않고 적절히 향긋함.\\r\\n거품잘남\\...  2020-03-15T09:08:20Z   \n",
       "2  해피바스는 무난하고 순한 매력이 있음! 다른것들도 잘 썼지만 정말 무난함,, 그치만...  2020-01-21T01:29:44Z   \n",
       "\n",
       "   is_evaluation  like_count  rating review_id state user_id product_id   age  \\\n",
       "0          False           0       3   5416271     N  119763     100000  36.0   \n",
       "1          False           0       4   5340616     N  338669     100000  38.0   \n",
       "2          False           0       3   5228598     N   24862     100000  28.0   \n",
       "\n",
       "   ...  reviewCount firstCategoryText idFirstCategory  idSecondCategory  \\\n",
       "0  ...         12.0               클렌징             7.0              32.0   \n",
       "1  ...         12.0               클렌징             7.0              32.0   \n",
       "2  ...         12.0               클렌징             7.0              32.0   \n",
       "\n",
       "  idThirdCategory secondCategoryText thirdCategoryText rank_y  \\\n",
       "0           112.0             페이셜클렌저              클렌징폼  386.0   \n",
       "1           112.0             페이셜클렌저              클렌징폼  386.0   \n",
       "2           112.0             페이셜클렌저              클렌징폼  386.0   \n",
       "\n",
       "                                               brand          brandName  \n",
       "0  {'idBrand': None, 'brandTitle': '해피바스 (HAPPY B...  해피바스 (HAPPY BATH)  \n",
       "1  {'idBrand': None, 'brandTitle': '해피바스 (HAPPY B...  해피바스 (HAPPY BATH)  \n",
       "2  {'idBrand': None, 'brandTitle': '해피바스 (HAPPY B...  해피바스 (HAPPY BATH)  \n",
       "\n",
       "[3 rows x 37 columns]"
      ]
     },
     "execution_count": 13,
     "metadata": {},
     "output_type": "execute_result"
    }
   ],
   "source": [
    "review_user_product_df = pd.merge (review_user_df, df_products, how = 'left', on = 'product_id')\n",
    "review_user_product_df.head (3)"
   ]
  },
  {
   "cell_type": "code",
   "execution_count": 19,
   "metadata": {},
   "outputs": [
    {
     "data": {
      "text/plain": [
       "1574817"
      ]
     },
     "execution_count": 19,
     "metadata": {},
     "output_type": "execute_result"
    }
   ],
   "source": [
    "len (review_user_product_df)"
   ]
  },
  {
   "cell_type": "code",
   "execution_count": 14,
   "metadata": {},
   "outputs": [
    {
     "data": {
      "text/plain": [
       "contents                   0\n",
       "created_at                 0\n",
       "is_evaluation              0\n",
       "like_count                 0\n",
       "rating                     0\n",
       "review_id                  0\n",
       "state                      0\n",
       "user_id                    0\n",
       "product_id                 0\n",
       "age                   102673\n",
       "birth_year            102673\n",
       "email                 102673\n",
       "gender                102673\n",
       "is_blinded            102673\n",
       "is_closed             102673\n",
       "is_inactivated        102673\n",
       "nickname              102684\n",
       "profile_image         549143\n",
       "rank_x                102673\n",
       "review_count          102673\n",
       "skin_type             102673\n",
       "productTitle           43805\n",
       "price                  43805\n",
       "volume                 43805\n",
       "description            43805\n",
       "ratingAvg              43805\n",
       "wishCount              43805\n",
       "reviewCount            43805\n",
       "firstCategoryText      43805\n",
       "idFirstCategory        43805\n",
       "idSecondCategory       43805\n",
       "idThirdCategory        43805\n",
       "secondCategoryText     43805\n",
       "thirdCategoryText      43805\n",
       "rank_y                 43805\n",
       "brand                  43805\n",
       "brandName              43805\n",
       "dtype: int64"
      ]
     },
     "execution_count": 14,
     "metadata": {},
     "output_type": "execute_result"
    }
   ],
   "source": [
    "review_user_product_df.isnull ().sum ()"
   ]
  },
  {
   "cell_type": "code",
   "execution_count": null,
   "metadata": {},
   "outputs": [],
   "source": []
  },
  {
   "cell_type": "markdown",
   "metadata": {},
   "source": [
    "### product_categoreis"
   ]
  },
  {
   "cell_type": "markdown",
   "metadata": {},
   "source": [
    "새로운 상품 raw 데이터에 카테고리 정보가 포함되 있음\n",
    "\n",
    "그래서 지금은 필요없음"
   ]
  },
  {
   "cell_type": "code",
   "execution_count": 21,
   "metadata": {},
   "outputs": [],
   "source": [
    "# product_categories.info()"
   ]
  },
  {
   "cell_type": "code",
   "execution_count": 22,
   "metadata": {},
   "outputs": [],
   "source": [
    "# product_categories.isnull ().sum ()"
   ]
  },
  {
   "cell_type": "code",
   "execution_count": 23,
   "metadata": {},
   "outputs": [],
   "source": [
    "# product_categories ['idThirdCategory'].nunique ()"
   ]
  },
  {
   "cell_type": "code",
   "execution_count": 24,
   "metadata": {},
   "outputs": [],
   "source": [
    "# 하나의 상품마다 2 이상의 카테고리를 가질수 있음\n",
    "# product_categories ['product_id'].value_counts ().head (50)"
   ]
  },
  {
   "cell_type": "code",
   "execution_count": 25,
   "metadata": {},
   "outputs": [],
   "source": [
    "# products [products ['product_id'] == '1030']"
   ]
  },
  {
   "cell_type": "code",
   "execution_count": 26,
   "metadata": {},
   "outputs": [],
   "source": [
    "# product_categories [product_categories ['product_id'] == '1030']"
   ]
  },
  {
   "cell_type": "code",
   "execution_count": 27,
   "metadata": {},
   "outputs": [],
   "source": [
    "# product_categories [product_categories ['product_id'] == '1030']"
   ]
  },
  {
   "cell_type": "code",
   "execution_count": 28,
   "metadata": {},
   "outputs": [],
   "source": [
    "# 상품별 중복 row를 삭제. 하나의 상품당 하나의 카테고리 (first > second > third)만\n",
    "# categories_drop_dupli = product_categories.drop_duplicates ('product_id')\n",
    "# categories_drop_dupli"
   ]
  },
  {
   "cell_type": "code",
   "execution_count": 29,
   "metadata": {},
   "outputs": [],
   "source": [
    "# print (categories_drop_dupli ['idFirstCategory'].nunique ())\n",
    "# print (categories_drop_dupli ['idSecondCategory'].nunique ())\n",
    "# print (categories_drop_dupli ['idThirdCategory'].nunique ())"
   ]
  },
  {
   "cell_type": "code",
   "execution_count": 30,
   "metadata": {},
   "outputs": [],
   "source": [
    "# categories_drop_dupli.isnull ().sum ()"
   ]
  },
  {
   "cell_type": "code",
   "execution_count": 31,
   "metadata": {},
   "outputs": [],
   "source": [
    "# categories_drop_dupli.info ()"
   ]
  },
  {
   "cell_type": "code",
   "execution_count": 32,
   "metadata": {},
   "outputs": [],
   "source": [
    "# categories_drop_dupli ['product_id'].value_counts ()"
   ]
  },
  {
   "cell_type": "code",
   "execution_count": 33,
   "metadata": {},
   "outputs": [],
   "source": [
    "# categories_drop_dupli [categories_drop_dupli ['product_id'] == '2851']"
   ]
  },
  {
   "cell_type": "markdown",
   "metadata": {},
   "source": [
    "### merge\n",
    "\n",
    "review_user_product_df, categories_drop_dupli"
   ]
  },
  {
   "cell_type": "code",
   "execution_count": 34,
   "metadata": {},
   "outputs": [],
   "source": [
    "# total_merged_df = pd.merge (review_user_product_df, categories_drop_dupli, how = 'left', on = 'product_id')\n",
    "# total_merged_df.head (3)"
   ]
  },
  {
   "cell_type": "code",
   "execution_count": 35,
   "metadata": {},
   "outputs": [],
   "source": [
    "# print (len (review_user_product_df))\n",
    "# print (len (total_merged_df))"
   ]
  },
  {
   "cell_type": "code",
   "execution_count": 36,
   "metadata": {},
   "outputs": [],
   "source": [
    "# print (total_merged_df.columns)\n",
    "# total_merged_df.head (1)"
   ]
  },
  {
   "cell_type": "code",
   "execution_count": null,
   "metadata": {},
   "outputs": [],
   "source": []
  },
  {
   "cell_type": "code",
   "execution_count": 15,
   "metadata": {},
   "outputs": [
    {
     "data": {
      "text/plain": [
       "Index(['contents', 'created_at', 'is_evaluation', 'like_count', 'rating',\n",
       "       'review_id', 'state', 'user_id', 'product_id', 'age', 'birth_year',\n",
       "       'email', 'gender', 'is_blinded', 'is_closed', 'is_inactivated',\n",
       "       'nickname', 'profile_image', 'rank_x', 'review_count', 'skin_type',\n",
       "       'productTitle', 'price', 'volume', 'description', 'ratingAvg',\n",
       "       'wishCount', 'reviewCount', 'firstCategoryText', 'idFirstCategory',\n",
       "       'idSecondCategory', 'idThirdCategory', 'secondCategoryText',\n",
       "       'thirdCategoryText', 'rank_y', 'brand', 'brandName'],\n",
       "      dtype='object')"
      ]
     },
     "execution_count": 15,
     "metadata": {},
     "output_type": "execute_result"
    }
   ],
   "source": [
    "review_user_product_df.columns "
   ]
  },
  {
   "cell_type": "code",
   "execution_count": 16,
   "metadata": {},
   "outputs": [
    {
     "data": {
      "text/html": [
       "<div>\n",
       "<style scoped>\n",
       "    .dataframe tbody tr th:only-of-type {\n",
       "        vertical-align: middle;\n",
       "    }\n",
       "\n",
       "    .dataframe tbody tr th {\n",
       "        vertical-align: top;\n",
       "    }\n",
       "\n",
       "    .dataframe thead th {\n",
       "        text-align: right;\n",
       "    }\n",
       "</style>\n",
       "<table border=\"1\" class=\"dataframe\">\n",
       "  <thead>\n",
       "    <tr style=\"text-align: right;\">\n",
       "      <th></th>\n",
       "      <th>contents</th>\n",
       "      <th>created_at</th>\n",
       "      <th>is_evaluation</th>\n",
       "      <th>like_count</th>\n",
       "      <th>rating</th>\n",
       "      <th>review_id</th>\n",
       "      <th>state</th>\n",
       "      <th>user_id</th>\n",
       "      <th>product_id</th>\n",
       "      <th>age</th>\n",
       "      <th>...</th>\n",
       "      <th>reviewCount</th>\n",
       "      <th>firstCategoryText</th>\n",
       "      <th>idFirstCategory</th>\n",
       "      <th>idSecondCategory</th>\n",
       "      <th>idThirdCategory</th>\n",
       "      <th>secondCategoryText</th>\n",
       "      <th>thirdCategoryText</th>\n",
       "      <th>rank_y</th>\n",
       "      <th>brand</th>\n",
       "      <th>brandName</th>\n",
       "    </tr>\n",
       "  </thead>\n",
       "  <tbody>\n",
       "    <tr>\n",
       "      <th>0</th>\n",
       "      <td>티 컬렉션으로 출시되었던 제품으로, 가벼운 녹차향이 납니다. 향 자체는 좀 날리는 ...</td>\n",
       "      <td>2020-04-30T02:12:36Z</td>\n",
       "      <td>False</td>\n",
       "      <td>0</td>\n",
       "      <td>3</td>\n",
       "      <td>5416271</td>\n",
       "      <td>N</td>\n",
       "      <td>119763</td>\n",
       "      <td>100000</td>\n",
       "      <td>36.0</td>\n",
       "      <td>...</td>\n",
       "      <td>12.0</td>\n",
       "      <td>클렌징</td>\n",
       "      <td>7.0</td>\n",
       "      <td>32.0</td>\n",
       "      <td>112.0</td>\n",
       "      <td>페이셜클렌저</td>\n",
       "      <td>클렌징폼</td>\n",
       "      <td>386.0</td>\n",
       "      <td>{'idBrand': None, 'brandTitle': '해피바스 (HAPPY B...</td>\n",
       "      <td>해피바스 (HAPPY BATH)</td>\n",
       "    </tr>\n",
       "    <tr>\n",
       "      <th>1</th>\n",
       "      <td>살짝 로션같이 짜지고 묽음.\\r\\n향은 독하지 않고 적절히 향긋함.\\r\\n거품잘남\\...</td>\n",
       "      <td>2020-03-15T09:08:20Z</td>\n",
       "      <td>False</td>\n",
       "      <td>0</td>\n",
       "      <td>4</td>\n",
       "      <td>5340616</td>\n",
       "      <td>N</td>\n",
       "      <td>338669</td>\n",
       "      <td>100000</td>\n",
       "      <td>38.0</td>\n",
       "      <td>...</td>\n",
       "      <td>12.0</td>\n",
       "      <td>클렌징</td>\n",
       "      <td>7.0</td>\n",
       "      <td>32.0</td>\n",
       "      <td>112.0</td>\n",
       "      <td>페이셜클렌저</td>\n",
       "      <td>클렌징폼</td>\n",
       "      <td>386.0</td>\n",
       "      <td>{'idBrand': None, 'brandTitle': '해피바스 (HAPPY B...</td>\n",
       "      <td>해피바스 (HAPPY BATH)</td>\n",
       "    </tr>\n",
       "    <tr>\n",
       "      <th>2</th>\n",
       "      <td>해피바스는 무난하고 순한 매력이 있음! 다른것들도 잘 썼지만 정말 무난함,, 그치만...</td>\n",
       "      <td>2020-01-21T01:29:44Z</td>\n",
       "      <td>False</td>\n",
       "      <td>0</td>\n",
       "      <td>3</td>\n",
       "      <td>5228598</td>\n",
       "      <td>N</td>\n",
       "      <td>24862</td>\n",
       "      <td>100000</td>\n",
       "      <td>28.0</td>\n",
       "      <td>...</td>\n",
       "      <td>12.0</td>\n",
       "      <td>클렌징</td>\n",
       "      <td>7.0</td>\n",
       "      <td>32.0</td>\n",
       "      <td>112.0</td>\n",
       "      <td>페이셜클렌저</td>\n",
       "      <td>클렌징폼</td>\n",
       "      <td>386.0</td>\n",
       "      <td>{'idBrand': None, 'brandTitle': '해피바스 (HAPPY B...</td>\n",
       "      <td>해피바스 (HAPPY BATH)</td>\n",
       "    </tr>\n",
       "  </tbody>\n",
       "</table>\n",
       "<p>3 rows × 37 columns</p>\n",
       "</div>"
      ],
      "text/plain": [
       "                                            contents            created_at  \\\n",
       "0  티 컬렉션으로 출시되었던 제품으로, 가벼운 녹차향이 납니다. 향 자체는 좀 날리는 ...  2020-04-30T02:12:36Z   \n",
       "1  살짝 로션같이 짜지고 묽음.\\r\\n향은 독하지 않고 적절히 향긋함.\\r\\n거품잘남\\...  2020-03-15T09:08:20Z   \n",
       "2  해피바스는 무난하고 순한 매력이 있음! 다른것들도 잘 썼지만 정말 무난함,, 그치만...  2020-01-21T01:29:44Z   \n",
       "\n",
       "   is_evaluation  like_count  rating review_id state user_id product_id   age  \\\n",
       "0          False           0       3   5416271     N  119763     100000  36.0   \n",
       "1          False           0       4   5340616     N  338669     100000  38.0   \n",
       "2          False           0       3   5228598     N   24862     100000  28.0   \n",
       "\n",
       "   ...  reviewCount firstCategoryText idFirstCategory  idSecondCategory  \\\n",
       "0  ...         12.0               클렌징             7.0              32.0   \n",
       "1  ...         12.0               클렌징             7.0              32.0   \n",
       "2  ...         12.0               클렌징             7.0              32.0   \n",
       "\n",
       "  idThirdCategory secondCategoryText thirdCategoryText rank_y  \\\n",
       "0           112.0             페이셜클렌저              클렌징폼  386.0   \n",
       "1           112.0             페이셜클렌저              클렌징폼  386.0   \n",
       "2           112.0             페이셜클렌저              클렌징폼  386.0   \n",
       "\n",
       "                                               brand          brandName  \n",
       "0  {'idBrand': None, 'brandTitle': '해피바스 (HAPPY B...  해피바스 (HAPPY BATH)  \n",
       "1  {'idBrand': None, 'brandTitle': '해피바스 (HAPPY B...  해피바스 (HAPPY BATH)  \n",
       "2  {'idBrand': None, 'brandTitle': '해피바스 (HAPPY B...  해피바스 (HAPPY BATH)  \n",
       "\n",
       "[3 rows x 37 columns]"
      ]
     },
     "execution_count": 16,
     "metadata": {},
     "output_type": "execute_result"
    }
   ],
   "source": [
    "review_user_product_df.head (3)"
   ]
  },
  {
   "cell_type": "code",
   "execution_count": 18,
   "metadata": {},
   "outputs": [
    {
     "data": {
      "text/html": [
       "<div>\n",
       "<style scoped>\n",
       "    .dataframe tbody tr th:only-of-type {\n",
       "        vertical-align: middle;\n",
       "    }\n",
       "\n",
       "    .dataframe tbody tr th {\n",
       "        vertical-align: top;\n",
       "    }\n",
       "\n",
       "    .dataframe thead th {\n",
       "        text-align: right;\n",
       "    }\n",
       "</style>\n",
       "<table border=\"1\" class=\"dataframe\">\n",
       "  <thead>\n",
       "    <tr style=\"text-align: right;\">\n",
       "      <th></th>\n",
       "      <th>contents</th>\n",
       "      <th>created_at</th>\n",
       "      <th>rating</th>\n",
       "      <th>user_id</th>\n",
       "      <th>product_id</th>\n",
       "      <th>age</th>\n",
       "      <th>gender</th>\n",
       "      <th>is_blinded</th>\n",
       "      <th>is_closed</th>\n",
       "      <th>is_inactivated</th>\n",
       "      <th>skin_type</th>\n",
       "      <th>productTitle</th>\n",
       "      <th>volume</th>\n",
       "      <th>price</th>\n",
       "      <th>brandName</th>\n",
       "      <th>idThirdCategory</th>\n",
       "    </tr>\n",
       "  </thead>\n",
       "  <tbody>\n",
       "    <tr>\n",
       "      <th>0</th>\n",
       "      <td>티 컬렉션으로 출시되었던 제품으로, 가벼운 녹차향이 납니다. 향 자체는 좀 날리는 ...</td>\n",
       "      <td>2020-04-30T02:12:36Z</td>\n",
       "      <td>3</td>\n",
       "      <td>119763</td>\n",
       "      <td>100000</td>\n",
       "      <td>36.0</td>\n",
       "      <td>f</td>\n",
       "      <td>0.0</td>\n",
       "      <td>False</td>\n",
       "      <td>False</td>\n",
       "      <td>복합성</td>\n",
       "      <td>티컬렉션 그린티 미셀라 클렌징폼</td>\n",
       "      <td>175g</td>\n",
       "      <td>11000.0</td>\n",
       "      <td>해피바스 (HAPPY BATH)</td>\n",
       "      <td>112.0</td>\n",
       "    </tr>\n",
       "    <tr>\n",
       "      <th>1</th>\n",
       "      <td>살짝 로션같이 짜지고 묽음.\\r\\n향은 독하지 않고 적절히 향긋함.\\r\\n거품잘남\\...</td>\n",
       "      <td>2020-03-15T09:08:20Z</td>\n",
       "      <td>4</td>\n",
       "      <td>338669</td>\n",
       "      <td>100000</td>\n",
       "      <td>38.0</td>\n",
       "      <td>f</td>\n",
       "      <td>0.0</td>\n",
       "      <td>False</td>\n",
       "      <td>False</td>\n",
       "      <td>중성</td>\n",
       "      <td>티컬렉션 그린티 미셀라 클렌징폼</td>\n",
       "      <td>175g</td>\n",
       "      <td>11000.0</td>\n",
       "      <td>해피바스 (HAPPY BATH)</td>\n",
       "      <td>112.0</td>\n",
       "    </tr>\n",
       "    <tr>\n",
       "      <th>2</th>\n",
       "      <td>해피바스는 무난하고 순한 매력이 있음! 다른것들도 잘 썼지만 정말 무난함,, 그치만...</td>\n",
       "      <td>2020-01-21T01:29:44Z</td>\n",
       "      <td>3</td>\n",
       "      <td>24862</td>\n",
       "      <td>100000</td>\n",
       "      <td>28.0</td>\n",
       "      <td>f</td>\n",
       "      <td>0.0</td>\n",
       "      <td>False</td>\n",
       "      <td>False</td>\n",
       "      <td>복합성</td>\n",
       "      <td>티컬렉션 그린티 미셀라 클렌징폼</td>\n",
       "      <td>175g</td>\n",
       "      <td>11000.0</td>\n",
       "      <td>해피바스 (HAPPY BATH)</td>\n",
       "      <td>112.0</td>\n",
       "    </tr>\n",
       "  </tbody>\n",
       "</table>\n",
       "</div>"
      ],
      "text/plain": [
       "                                            contents            created_at  \\\n",
       "0  티 컬렉션으로 출시되었던 제품으로, 가벼운 녹차향이 납니다. 향 자체는 좀 날리는 ...  2020-04-30T02:12:36Z   \n",
       "1  살짝 로션같이 짜지고 묽음.\\r\\n향은 독하지 않고 적절히 향긋함.\\r\\n거품잘남\\...  2020-03-15T09:08:20Z   \n",
       "2  해피바스는 무난하고 순한 매력이 있음! 다른것들도 잘 썼지만 정말 무난함,, 그치만...  2020-01-21T01:29:44Z   \n",
       "\n",
       "   rating user_id product_id   age gender  is_blinded is_closed  \\\n",
       "0       3  119763     100000  36.0      f         0.0     False   \n",
       "1       4  338669     100000  38.0      f         0.0     False   \n",
       "2       3   24862     100000  28.0      f         0.0     False   \n",
       "\n",
       "  is_inactivated skin_type       productTitle volume    price  \\\n",
       "0          False       복합성  티컬렉션 그린티 미셀라 클렌징폼   175g  11000.0   \n",
       "1          False        중성  티컬렉션 그린티 미셀라 클렌징폼   175g  11000.0   \n",
       "2          False       복합성  티컬렉션 그린티 미셀라 클렌징폼   175g  11000.0   \n",
       "\n",
       "           brandName  idThirdCategory  \n",
       "0  해피바스 (HAPPY BATH)            112.0  \n",
       "1  해피바스 (HAPPY BATH)            112.0  \n",
       "2  해피바스 (HAPPY BATH)            112.0  "
      ]
     },
     "execution_count": 18,
     "metadata": {},
     "output_type": "execute_result"
    }
   ],
   "source": [
    "get_cols = ['contents', 'created_at', 'rating', 'user_id', 'product_id', 'age', 'gender', 'is_blinded', 'is_closed', 'is_inactivated', 'skin_type', 'productTitle', 'volume', 'price', 'brandName', 'idThirdCategory']\n",
    "\n",
    "total_df = review_user_product_df [get_cols]\n",
    "total_df.head (3)"
   ]
  },
  {
   "cell_type": "code",
   "execution_count": 19,
   "metadata": {},
   "outputs": [
    {
     "name": "stdout",
     "output_type": "stream",
     "text": [
      "<class 'pandas.core.frame.DataFrame'>\n",
      "Int64Index: 1574817 entries, 0 to 1574816\n",
      "Data columns (total 16 columns):\n",
      " #   Column           Non-Null Count    Dtype  \n",
      "---  ------           --------------    -----  \n",
      " 0   contents         1574817 non-null  object \n",
      " 1   created_at       1574817 non-null  object \n",
      " 2   rating           1574817 non-null  int64  \n",
      " 3   user_id          1574817 non-null  object \n",
      " 4   product_id       1574817 non-null  object \n",
      " 5   age              1472144 non-null  float64\n",
      " 6   gender           1472144 non-null  object \n",
      " 7   is_blinded       1472144 non-null  float64\n",
      " 8   is_closed        1472144 non-null  object \n",
      " 9   is_inactivated   1472144 non-null  object \n",
      " 10  skin_type        1472144 non-null  object \n",
      " 11  productTitle     1531012 non-null  object \n",
      " 12  volume           1531012 non-null  object \n",
      " 13  price            1531012 non-null  float64\n",
      " 14  brandName        1531012 non-null  object \n",
      " 15  idThirdCategory  1531012 non-null  float64\n",
      "dtypes: float64(4), int64(1), object(11)\n",
      "memory usage: 204.3+ MB\n"
     ]
    }
   ],
   "source": [
    "total_df.info ()"
   ]
  },
  {
   "cell_type": "markdown",
   "metadata": {},
   "source": [
    "### 결측치 삭제\n",
    "\n",
    "1. 단순 삭제 모드"
   ]
  },
  {
   "cell_type": "code",
   "execution_count": 20,
   "metadata": {},
   "outputs": [
    {
     "data": {
      "text/plain": [
       "contents                0\n",
       "created_at              0\n",
       "rating                  0\n",
       "user_id                 0\n",
       "product_id              0\n",
       "age                102673\n",
       "gender             102673\n",
       "is_blinded         102673\n",
       "is_closed          102673\n",
       "is_inactivated     102673\n",
       "skin_type          102673\n",
       "productTitle        43805\n",
       "volume              43805\n",
       "price               43805\n",
       "brandName           43805\n",
       "idThirdCategory     43805\n",
       "dtype: int64"
      ]
     },
     "execution_count": 20,
     "metadata": {},
     "output_type": "execute_result"
    }
   ],
   "source": [
    "total_df.isnull ().sum ()"
   ]
  },
  {
   "cell_type": "code",
   "execution_count": 21,
   "metadata": {},
   "outputs": [
    {
     "data": {
      "text/plain": [
       "f      1457621\n",
       "NaN     102673\n",
       "m        14523\n",
       "Name: gender, dtype: int64"
      ]
     },
     "execution_count": 21,
     "metadata": {},
     "output_type": "execute_result"
    }
   ],
   "source": [
    "total_df ['gender'].value_counts (dropna = False)"
   ]
  },
  {
   "cell_type": "code",
   "execution_count": 22,
   "metadata": {},
   "outputs": [
    {
     "name": "stdout",
     "output_type": "stream",
     "text": [
      "<class 'pandas.core.frame.DataFrame'>\n",
      "Int64Index: 1431471 entries, 0 to 1574816\n",
      "Data columns (total 16 columns):\n",
      " #   Column           Non-Null Count    Dtype  \n",
      "---  ------           --------------    -----  \n",
      " 0   contents         1431471 non-null  object \n",
      " 1   created_at       1431471 non-null  object \n",
      " 2   rating           1431471 non-null  int64  \n",
      " 3   user_id          1431471 non-null  object \n",
      " 4   product_id       1431471 non-null  object \n",
      " 5   age              1431471 non-null  float64\n",
      " 6   gender           1431471 non-null  object \n",
      " 7   is_blinded       1431471 non-null  float64\n",
      " 8   is_closed        1431471 non-null  object \n",
      " 9   is_inactivated   1431471 non-null  object \n",
      " 10  skin_type        1431471 non-null  object \n",
      " 11  productTitle     1431471 non-null  object \n",
      " 12  volume           1431471 non-null  object \n",
      " 13  price            1431471 non-null  float64\n",
      " 14  brandName        1431471 non-null  object \n",
      " 15  idThirdCategory  1431471 non-null  float64\n",
      "dtypes: float64(4), int64(1), object(11)\n",
      "memory usage: 185.7+ MB\n"
     ]
    }
   ],
   "source": [
    "# 'age', 'productTitle', 'price', 'idThirdCategory' 컬럼에 결측치가 있으면 해당 row를 삭제\n",
    "\n",
    "glowpick = total_df.dropna (subset = ['age', 'productTitle', 'price', 'idThirdCategory'], how = 'any', axis = 0)\n",
    "glowpick.info ()"
   ]
  },
  {
   "cell_type": "code",
   "execution_count": 23,
   "metadata": {},
   "outputs": [
    {
     "data": {
      "text/plain": [
       "143346"
      ]
     },
     "execution_count": 23,
     "metadata": {},
     "output_type": "execute_result"
    }
   ],
   "source": [
    "# 14만건 정도가 삭제됨\n",
    "len (total_df) - len (glowpick)"
   ]
  },
  {
   "cell_type": "code",
   "execution_count": 24,
   "metadata": {},
   "outputs": [
    {
     "data": {
      "text/html": [
       "<div>\n",
       "<style scoped>\n",
       "    .dataframe tbody tr th:only-of-type {\n",
       "        vertical-align: middle;\n",
       "    }\n",
       "\n",
       "    .dataframe tbody tr th {\n",
       "        vertical-align: top;\n",
       "    }\n",
       "\n",
       "    .dataframe thead th {\n",
       "        text-align: right;\n",
       "    }\n",
       "</style>\n",
       "<table border=\"1\" class=\"dataframe\">\n",
       "  <thead>\n",
       "    <tr style=\"text-align: right;\">\n",
       "      <th></th>\n",
       "      <th>contents</th>\n",
       "      <th>created_at</th>\n",
       "      <th>rating</th>\n",
       "      <th>user_id</th>\n",
       "      <th>product_id</th>\n",
       "      <th>age</th>\n",
       "      <th>gender</th>\n",
       "      <th>is_blinded</th>\n",
       "      <th>is_closed</th>\n",
       "      <th>is_inactivated</th>\n",
       "      <th>skin_type</th>\n",
       "      <th>productTitle</th>\n",
       "      <th>volume</th>\n",
       "      <th>price</th>\n",
       "      <th>brandName</th>\n",
       "      <th>idThirdCategory</th>\n",
       "    </tr>\n",
       "  </thead>\n",
       "  <tbody>\n",
       "    <tr>\n",
       "      <th>412450</th>\n",
       "      <td>너무너무 촉촉해서 좋아요 역시 최고입니당 ㅜㅜ 가격도 착해요 !!</td>\n",
       "      <td>2020-05-03T13:01:44Z</td>\n",
       "      <td>5</td>\n",
       "      <td>1366339</td>\n",
       "      <td>19043</td>\n",
       "      <td>26.0</td>\n",
       "      <td>m</td>\n",
       "      <td>0.0</td>\n",
       "      <td>False</td>\n",
       "      <td>False</td>\n",
       "      <td>복합성</td>\n",
       "      <td>아토덤 립스틱</td>\n",
       "      <td>4g</td>\n",
       "      <td>15000.0</td>\n",
       "      <td>바이오더마 (BIODERMA)</td>\n",
       "      <td>59.0</td>\n",
       "    </tr>\n",
       "    <tr>\n",
       "      <th>412451</th>\n",
       "      <td>엇? 바이오더마의 숨은 꿀템이!!??\\r\\n보습력까지 키워주구 거기다가 발림성까지 ...</td>\n",
       "      <td>2020-02-16T08:49:11Z</td>\n",
       "      <td>5</td>\n",
       "      <td>1333766</td>\n",
       "      <td>19043</td>\n",
       "      <td>22.0</td>\n",
       "      <td>m</td>\n",
       "      <td>0.0</td>\n",
       "      <td>False</td>\n",
       "      <td>False</td>\n",
       "      <td>민감성</td>\n",
       "      <td>아토덤 립스틱</td>\n",
       "      <td>4g</td>\n",
       "      <td>15000.0</td>\n",
       "      <td>바이오더마 (BIODERMA)</td>\n",
       "      <td>59.0</td>\n",
       "    </tr>\n",
       "    <tr>\n",
       "      <th>412452</th>\n",
       "      <td>온갖 립밤 다 써봤는데 이걸로 정착함\\r\\n말이 필요가 없다 써보세요</td>\n",
       "      <td>2018-10-11T06:54:28Z</td>\n",
       "      <td>5</td>\n",
       "      <td>1034229</td>\n",
       "      <td>19043</td>\n",
       "      <td>26.0</td>\n",
       "      <td>m</td>\n",
       "      <td>0.0</td>\n",
       "      <td>False</td>\n",
       "      <td>False</td>\n",
       "      <td>지성</td>\n",
       "      <td>아토덤 립스틱</td>\n",
       "      <td>4g</td>\n",
       "      <td>15000.0</td>\n",
       "      <td>바이오더마 (BIODERMA)</td>\n",
       "      <td>59.0</td>\n",
       "    </tr>\n",
       "    <tr>\n",
       "      <th>412453</th>\n",
       "      <td>몽쥬약국에서 2+1해서 샀는데 발라보니깐 예쁘게 기름지다라는 말이 어울리는 거 같아...</td>\n",
       "      <td>2017-08-20T15:06:19Z</td>\n",
       "      <td>5</td>\n",
       "      <td>664808</td>\n",
       "      <td>19043</td>\n",
       "      <td>25.0</td>\n",
       "      <td>m</td>\n",
       "      <td>0.0</td>\n",
       "      <td>False</td>\n",
       "      <td>False</td>\n",
       "      <td>지성</td>\n",
       "      <td>아토덤 립스틱</td>\n",
       "      <td>4g</td>\n",
       "      <td>15000.0</td>\n",
       "      <td>바이오더마 (BIODERMA)</td>\n",
       "      <td>59.0</td>\n",
       "    </tr>\n",
       "    <tr>\n",
       "      <th>412454</th>\n",
       "      <td>향도 좋고 부드럽게 잘 발린다. 보습도 괜찮은듯.. 바르다가 안 바르면 입술이 건조...</td>\n",
       "      <td>2017-07-21T18:23:44Z</td>\n",
       "      <td>5</td>\n",
       "      <td>722148</td>\n",
       "      <td>19043</td>\n",
       "      <td>24.0</td>\n",
       "      <td>m</td>\n",
       "      <td>0.0</td>\n",
       "      <td>False</td>\n",
       "      <td>True</td>\n",
       "      <td>중성</td>\n",
       "      <td>아토덤 립스틱</td>\n",
       "      <td>4g</td>\n",
       "      <td>15000.0</td>\n",
       "      <td>바이오더마 (BIODERMA)</td>\n",
       "      <td>59.0</td>\n",
       "    </tr>\n",
       "    <tr>\n",
       "      <th>...</th>\n",
       "      <td>...</td>\n",
       "      <td>...</td>\n",
       "      <td>...</td>\n",
       "      <td>...</td>\n",
       "      <td>...</td>\n",
       "      <td>...</td>\n",
       "      <td>...</td>\n",
       "      <td>...</td>\n",
       "      <td>...</td>\n",
       "      <td>...</td>\n",
       "      <td>...</td>\n",
       "      <td>...</td>\n",
       "      <td>...</td>\n",
       "      <td>...</td>\n",
       "      <td>...</td>\n",
       "      <td>...</td>\n",
       "    </tr>\n",
       "    <tr>\n",
       "      <th>415321</th>\n",
       "      <td>파리가서........샀는데 거기직원이 프랑스인들은 유리아주보다 이거더쓴다하고 가격...</td>\n",
       "      <td>2015-08-28T09:26:02Z</td>\n",
       "      <td>1</td>\n",
       "      <td>60380</td>\n",
       "      <td>19043</td>\n",
       "      <td>28.0</td>\n",
       "      <td>f</td>\n",
       "      <td>0.0</td>\n",
       "      <td>False</td>\n",
       "      <td>True</td>\n",
       "      <td>건성</td>\n",
       "      <td>아토덤 립스틱</td>\n",
       "      <td>4g</td>\n",
       "      <td>15000.0</td>\n",
       "      <td>바이오더마 (BIODERMA)</td>\n",
       "      <td>59.0</td>\n",
       "    </tr>\n",
       "    <tr>\n",
       "      <th>415322</th>\n",
       "      <td>냄새만좋고 저한텐 효과 없었어요</td>\n",
       "      <td>2015-06-21T13:14:25Z</td>\n",
       "      <td>1</td>\n",
       "      <td>86223</td>\n",
       "      <td>19043</td>\n",
       "      <td>26.0</td>\n",
       "      <td>f</td>\n",
       "      <td>0.0</td>\n",
       "      <td>False</td>\n",
       "      <td>True</td>\n",
       "      <td>건성</td>\n",
       "      <td>아토덤 립스틱</td>\n",
       "      <td>4g</td>\n",
       "      <td>15000.0</td>\n",
       "      <td>바이오더마 (BIODERMA)</td>\n",
       "      <td>59.0</td>\n",
       "    </tr>\n",
       "    <tr>\n",
       "      <th>1392170</th>\n",
       "      <td>일단 나는 향이 거북했음\\r\\n그때가 아마 머리가 어지러웠서 더 향이 거북했던 거 ...</td>\n",
       "      <td>2020-05-07T16:08:54Z</td>\n",
       "      <td>3</td>\n",
       "      <td>1359528</td>\n",
       "      <td>19043</td>\n",
       "      <td>19.0</td>\n",
       "      <td>f</td>\n",
       "      <td>0.0</td>\n",
       "      <td>False</td>\n",
       "      <td>False</td>\n",
       "      <td>지성</td>\n",
       "      <td>아토덤 립스틱</td>\n",
       "      <td>4g</td>\n",
       "      <td>15000.0</td>\n",
       "      <td>바이오더마 (BIODERMA)</td>\n",
       "      <td>59.0</td>\n",
       "    </tr>\n",
       "    <tr>\n",
       "      <th>1392171</th>\n",
       "      <td>이거슨 나의 인생템\\r\\n바ㅅ린 만큼은 아니지만 스틱형 립밤 치고 꽤 지속력 있고 ...</td>\n",
       "      <td>2020-05-07T08:16:05Z</td>\n",
       "      <td>5</td>\n",
       "      <td>1349460</td>\n",
       "      <td>19043</td>\n",
       "      <td>21.0</td>\n",
       "      <td>f</td>\n",
       "      <td>0.0</td>\n",
       "      <td>False</td>\n",
       "      <td>False</td>\n",
       "      <td>복합성</td>\n",
       "      <td>아토덤 립스틱</td>\n",
       "      <td>4g</td>\n",
       "      <td>15000.0</td>\n",
       "      <td>바이오더마 (BIODERMA)</td>\n",
       "      <td>59.0</td>\n",
       "    </tr>\n",
       "    <tr>\n",
       "      <th>1392172</th>\n",
       "      <td>인터넷에서 시키면 싸게 살수 있어요 저는 4계절 내내 입술이 많이 건조한 편이라 립...</td>\n",
       "      <td>2020-05-06T20:49:37Z</td>\n",
       "      <td>5</td>\n",
       "      <td>1037384</td>\n",
       "      <td>19043</td>\n",
       "      <td>26.0</td>\n",
       "      <td>f</td>\n",
       "      <td>0.0</td>\n",
       "      <td>False</td>\n",
       "      <td>False</td>\n",
       "      <td>건성</td>\n",
       "      <td>아토덤 립스틱</td>\n",
       "      <td>4g</td>\n",
       "      <td>15000.0</td>\n",
       "      <td>바이오더마 (BIODERMA)</td>\n",
       "      <td>59.0</td>\n",
       "    </tr>\n",
       "  </tbody>\n",
       "</table>\n",
       "<p>2583 rows × 16 columns</p>\n",
       "</div>"
      ],
      "text/plain": [
       "                                                  contents  \\\n",
       "412450                너무너무 촉촉해서 좋아요 역시 최고입니당 ㅜㅜ 가격도 착해요 !!   \n",
       "412451   엇? 바이오더마의 숨은 꿀템이!!??\\r\\n보습력까지 키워주구 거기다가 발림성까지 ...   \n",
       "412452              온갖 립밤 다 써봤는데 이걸로 정착함\\r\\n말이 필요가 없다 써보세요   \n",
       "412453   몽쥬약국에서 2+1해서 샀는데 발라보니깐 예쁘게 기름지다라는 말이 어울리는 거 같아...   \n",
       "412454   향도 좋고 부드럽게 잘 발린다. 보습도 괜찮은듯.. 바르다가 안 바르면 입술이 건조...   \n",
       "...                                                    ...   \n",
       "415321   파리가서........샀는데 거기직원이 프랑스인들은 유리아주보다 이거더쓴다하고 가격...   \n",
       "415322                                   냄새만좋고 저한텐 효과 없었어요   \n",
       "1392170  일단 나는 향이 거북했음\\r\\n그때가 아마 머리가 어지러웠서 더 향이 거북했던 거 ...   \n",
       "1392171  이거슨 나의 인생템\\r\\n바ㅅ린 만큼은 아니지만 스틱형 립밤 치고 꽤 지속력 있고 ...   \n",
       "1392172  인터넷에서 시키면 싸게 살수 있어요 저는 4계절 내내 입술이 많이 건조한 편이라 립...   \n",
       "\n",
       "                   created_at  rating  user_id product_id   age gender  \\\n",
       "412450   2020-05-03T13:01:44Z       5  1366339      19043  26.0      m   \n",
       "412451   2020-02-16T08:49:11Z       5  1333766      19043  22.0      m   \n",
       "412452   2018-10-11T06:54:28Z       5  1034229      19043  26.0      m   \n",
       "412453   2017-08-20T15:06:19Z       5   664808      19043  25.0      m   \n",
       "412454   2017-07-21T18:23:44Z       5   722148      19043  24.0      m   \n",
       "...                       ...     ...      ...        ...   ...    ...   \n",
       "415321   2015-08-28T09:26:02Z       1    60380      19043  28.0      f   \n",
       "415322   2015-06-21T13:14:25Z       1    86223      19043  26.0      f   \n",
       "1392170  2020-05-07T16:08:54Z       3  1359528      19043  19.0      f   \n",
       "1392171  2020-05-07T08:16:05Z       5  1349460      19043  21.0      f   \n",
       "1392172  2020-05-06T20:49:37Z       5  1037384      19043  26.0      f   \n",
       "\n",
       "         is_blinded is_closed is_inactivated skin_type productTitle volume  \\\n",
       "412450          0.0     False          False       복합성      아토덤 립스틱     4g   \n",
       "412451          0.0     False          False       민감성      아토덤 립스틱     4g   \n",
       "412452          0.0     False          False        지성      아토덤 립스틱     4g   \n",
       "412453          0.0     False          False        지성      아토덤 립스틱     4g   \n",
       "412454          0.0     False           True        중성      아토덤 립스틱     4g   \n",
       "...             ...       ...            ...       ...          ...    ...   \n",
       "415321          0.0     False           True        건성      아토덤 립스틱     4g   \n",
       "415322          0.0     False           True        건성      아토덤 립스틱     4g   \n",
       "1392170         0.0     False          False        지성      아토덤 립스틱     4g   \n",
       "1392171         0.0     False          False       복합성      아토덤 립스틱     4g   \n",
       "1392172         0.0     False          False        건성      아토덤 립스틱     4g   \n",
       "\n",
       "           price         brandName  idThirdCategory  \n",
       "412450   15000.0  바이오더마 (BIODERMA)             59.0  \n",
       "412451   15000.0  바이오더마 (BIODERMA)             59.0  \n",
       "412452   15000.0  바이오더마 (BIODERMA)             59.0  \n",
       "412453   15000.0  바이오더마 (BIODERMA)             59.0  \n",
       "412454   15000.0  바이오더마 (BIODERMA)             59.0  \n",
       "...          ...               ...              ...  \n",
       "415321   15000.0  바이오더마 (BIODERMA)             59.0  \n",
       "415322   15000.0  바이오더마 (BIODERMA)             59.0  \n",
       "1392170  15000.0  바이오더마 (BIODERMA)             59.0  \n",
       "1392171  15000.0  바이오더마 (BIODERMA)             59.0  \n",
       "1392172  15000.0  바이오더마 (BIODERMA)             59.0  \n",
       "\n",
       "[2583 rows x 16 columns]"
      ]
     },
     "execution_count": 24,
     "metadata": {},
     "output_type": "execute_result"
    }
   ],
   "source": [
    "# glowpick [glowpick ['product_id'] == '19043']"
   ]
  },
  {
   "cell_type": "code",
   "execution_count": 25,
   "metadata": {},
   "outputs": [
    {
     "data": {
      "text/plain": [
       "array(['100000', '1030', '100002', ..., '78226', '4', '5'], dtype=object)"
      ]
     },
     "execution_count": 25,
     "metadata": {},
     "output_type": "execute_result"
    }
   ],
   "source": [
    "glowpick ['product_id'].unique ()"
   ]
  },
  {
   "cell_type": "code",
   "execution_count": 26,
   "metadata": {},
   "outputs": [
    {
     "data": {
      "text/html": [
       "<div>\n",
       "<style scoped>\n",
       "    .dataframe tbody tr th:only-of-type {\n",
       "        vertical-align: middle;\n",
       "    }\n",
       "\n",
       "    .dataframe tbody tr th {\n",
       "        vertical-align: top;\n",
       "    }\n",
       "\n",
       "    .dataframe thead th {\n",
       "        text-align: right;\n",
       "    }\n",
       "</style>\n",
       "<table border=\"1\" class=\"dataframe\">\n",
       "  <thead>\n",
       "    <tr style=\"text-align: right;\">\n",
       "      <th></th>\n",
       "      <th>contents</th>\n",
       "      <th>created_at</th>\n",
       "      <th>rating</th>\n",
       "      <th>user_id</th>\n",
       "      <th>product_id</th>\n",
       "      <th>age</th>\n",
       "      <th>gender</th>\n",
       "      <th>is_blinded</th>\n",
       "      <th>is_closed</th>\n",
       "      <th>is_inactivated</th>\n",
       "      <th>skin_type</th>\n",
       "      <th>productTitle</th>\n",
       "      <th>volume</th>\n",
       "      <th>price</th>\n",
       "      <th>brandName</th>\n",
       "      <th>idThirdCategory</th>\n",
       "    </tr>\n",
       "  </thead>\n",
       "  <tbody>\n",
       "  </tbody>\n",
       "</table>\n",
       "</div>"
      ],
      "text/plain": [
       "Empty DataFrame\n",
       "Columns: [contents, created_at, rating, user_id, product_id, age, gender, is_blinded, is_closed, is_inactivated, skin_type, productTitle, volume, price, brandName, idThirdCategory]\n",
       "Index: []"
      ]
     },
     "execution_count": 26,
     "metadata": {},
     "output_type": "execute_result"
    }
   ],
   "source": [
    "glowpick [glowpick ['product_id'] == '46429']"
   ]
  },
  {
   "cell_type": "code",
   "execution_count": null,
   "metadata": {},
   "outputs": [],
   "source": [
    "dfasfas"
   ]
  },
  {
   "cell_type": "markdown",
   "metadata": {},
   "source": [
    "#### labeling하기 전 glowpick을 저장"
   ]
  },
  {
   "cell_type": "code",
   "execution_count": 49,
   "metadata": {},
   "outputs": [],
   "source": [
    "# glowpick Dataframe을 저장하기 위해 index를 reset 시킴. \n",
    "# glowpick Dataframe의 결측치 rows 를 삭제 했으므로, index가 연속되지 않음. 그러면 저장 안됨\n",
    "# glowpick.reset_index (drop = True, inplace = True)\n",
    "# glowpick Dataframe을 저장\n",
    "# glowpick.to_feather (FILE_PATH + 'glowpick_before_labeling.ftr')"
   ]
  },
  {
   "cell_type": "code",
   "execution_count": 30,
   "metadata": {},
   "outputs": [
    {
     "data": {
      "text/plain": [
       "{'product_id': 'origin_product_id',\n",
       " 'user_id': 'origin_user_id',\n",
       " 'gender': 'origin_gender',\n",
       " 'age': 'origin_age',\n",
       " 'skin_type': 'origin_skin_type',\n",
       " 'idThirdCategory': 'origin_idThirdCategory'}"
      ]
     },
     "execution_count": 30,
     "metadata": {},
     "output_type": "execute_result"
    }
   ],
   "source": [
    "# sparse_features로 사용할 features 설정\n",
    "# glowpick의 sparse_feature 컬럼을 rename 하기 위한 dictionary (origin_dict) 생성 \n",
    "origin_dict = {}\n",
    "sparse_features = [\"product_id\", \"user_id\", \"gender\", \"age\", \"skin_type\", \"idThirdCategory\", ]\n",
    "target = ['rating']\n",
    "\n",
    "for feature in sparse_features:\n",
    "    origin_dict [feature] = 'origin_' + feature\n",
    "    \n",
    "origin_dict"
   ]
  },
  {
   "cell_type": "code",
   "execution_count": 31,
   "metadata": {},
   "outputs": [
    {
     "data": {
      "text/html": [
       "<div>\n",
       "<style scoped>\n",
       "    .dataframe tbody tr th:only-of-type {\n",
       "        vertical-align: middle;\n",
       "    }\n",
       "\n",
       "    .dataframe tbody tr th {\n",
       "        vertical-align: top;\n",
       "    }\n",
       "\n",
       "    .dataframe thead th {\n",
       "        text-align: right;\n",
       "    }\n",
       "</style>\n",
       "<table border=\"1\" class=\"dataframe\">\n",
       "  <thead>\n",
       "    <tr style=\"text-align: right;\">\n",
       "      <th></th>\n",
       "      <th>contents</th>\n",
       "      <th>created_at</th>\n",
       "      <th>rating</th>\n",
       "      <th>origin_user_id</th>\n",
       "      <th>origin_product_id</th>\n",
       "      <th>origin_age</th>\n",
       "      <th>origin_gender</th>\n",
       "      <th>is_blinded</th>\n",
       "      <th>is_closed</th>\n",
       "      <th>is_inactivated</th>\n",
       "      <th>origin_skin_type</th>\n",
       "      <th>productTitle</th>\n",
       "      <th>volume</th>\n",
       "      <th>price</th>\n",
       "      <th>brandName</th>\n",
       "      <th>origin_idThirdCategory</th>\n",
       "    </tr>\n",
       "  </thead>\n",
       "  <tbody>\n",
       "    <tr>\n",
       "      <th>0</th>\n",
       "      <td>티 컬렉션으로 출시되었던 제품으로, 가벼운 녹차향이 납니다. 향 자체는 좀 날리는 ...</td>\n",
       "      <td>2020-04-30T02:12:36Z</td>\n",
       "      <td>3</td>\n",
       "      <td>119763</td>\n",
       "      <td>100000</td>\n",
       "      <td>36.0</td>\n",
       "      <td>f</td>\n",
       "      <td>0.0</td>\n",
       "      <td>False</td>\n",
       "      <td>False</td>\n",
       "      <td>복합성</td>\n",
       "      <td>티컬렉션 그린티 미셀라 클렌징폼</td>\n",
       "      <td>175g</td>\n",
       "      <td>11000.0</td>\n",
       "      <td>해피바스 (HAPPY BATH)</td>\n",
       "      <td>112.0</td>\n",
       "    </tr>\n",
       "    <tr>\n",
       "      <th>1</th>\n",
       "      <td>살짝 로션같이 짜지고 묽음.\\r\\n향은 독하지 않고 적절히 향긋함.\\r\\n거품잘남\\...</td>\n",
       "      <td>2020-03-15T09:08:20Z</td>\n",
       "      <td>4</td>\n",
       "      <td>338669</td>\n",
       "      <td>100000</td>\n",
       "      <td>38.0</td>\n",
       "      <td>f</td>\n",
       "      <td>0.0</td>\n",
       "      <td>False</td>\n",
       "      <td>False</td>\n",
       "      <td>중성</td>\n",
       "      <td>티컬렉션 그린티 미셀라 클렌징폼</td>\n",
       "      <td>175g</td>\n",
       "      <td>11000.0</td>\n",
       "      <td>해피바스 (HAPPY BATH)</td>\n",
       "      <td>112.0</td>\n",
       "    </tr>\n",
       "    <tr>\n",
       "      <th>2</th>\n",
       "      <td>해피바스는 무난하고 순한 매력이 있음! 다른것들도 잘 썼지만 정말 무난함,, 그치만...</td>\n",
       "      <td>2020-01-21T01:29:44Z</td>\n",
       "      <td>3</td>\n",
       "      <td>24862</td>\n",
       "      <td>100000</td>\n",
       "      <td>28.0</td>\n",
       "      <td>f</td>\n",
       "      <td>0.0</td>\n",
       "      <td>False</td>\n",
       "      <td>False</td>\n",
       "      <td>복합성</td>\n",
       "      <td>티컬렉션 그린티 미셀라 클렌징폼</td>\n",
       "      <td>175g</td>\n",
       "      <td>11000.0</td>\n",
       "      <td>해피바스 (HAPPY BATH)</td>\n",
       "      <td>112.0</td>\n",
       "    </tr>\n",
       "  </tbody>\n",
       "</table>\n",
       "</div>"
      ],
      "text/plain": [
       "                                            contents            created_at  \\\n",
       "0  티 컬렉션으로 출시되었던 제품으로, 가벼운 녹차향이 납니다. 향 자체는 좀 날리는 ...  2020-04-30T02:12:36Z   \n",
       "1  살짝 로션같이 짜지고 묽음.\\r\\n향은 독하지 않고 적절히 향긋함.\\r\\n거품잘남\\...  2020-03-15T09:08:20Z   \n",
       "2  해피바스는 무난하고 순한 매력이 있음! 다른것들도 잘 썼지만 정말 무난함,, 그치만...  2020-01-21T01:29:44Z   \n",
       "\n",
       "   rating origin_user_id origin_product_id  origin_age origin_gender  \\\n",
       "0       3         119763            100000        36.0             f   \n",
       "1       4         338669            100000        38.0             f   \n",
       "2       3          24862            100000        28.0             f   \n",
       "\n",
       "   is_blinded is_closed is_inactivated origin_skin_type       productTitle  \\\n",
       "0         0.0     False          False              복합성  티컬렉션 그린티 미셀라 클렌징폼   \n",
       "1         0.0     False          False               중성  티컬렉션 그린티 미셀라 클렌징폼   \n",
       "2         0.0     False          False              복합성  티컬렉션 그린티 미셀라 클렌징폼   \n",
       "\n",
       "  volume    price          brandName  origin_idThirdCategory  \n",
       "0   175g  11000.0  해피바스 (HAPPY BATH)                   112.0  \n",
       "1   175g  11000.0  해피바스 (HAPPY BATH)                   112.0  \n",
       "2   175g  11000.0  해피바스 (HAPPY BATH)                   112.0  "
      ]
     },
     "execution_count": 31,
     "metadata": {},
     "output_type": "execute_result"
    }
   ],
   "source": [
    "# glowpick의 sparse_feature 컬럼을 rename \n",
    "glowpick.rename (origin_dict, axis = 'columns', inplace = True)\n",
    "glowpick.head (3)"
   ]
  },
  {
   "cell_type": "code",
   "execution_count": 28,
   "metadata": {},
   "outputs": [
    {
     "data": {
      "text/plain": [
       "5"
      ]
     },
     "execution_count": 28,
     "metadata": {},
     "output_type": "execute_result"
    }
   ],
   "source": [
    "glowpick ['skin_type'].nunique ()"
   ]
  },
  {
   "cell_type": "code",
   "execution_count": 29,
   "metadata": {},
   "outputs": [],
   "source": [
    "# 이전 labelEncoding\n",
    "# from sklearn.preprocessing import LabelEncoder\n",
    "\n",
    "# # 1.Label Encoding for sparse features,and process sequence features\n",
    "# for feat in sparse_features:\n",
    "#     lbe = LabelEncoder()\n",
    "#     glowpick ['labeled' + feat] = lbe.fit_transform (glowpick [feat])\n",
    "    \n",
    "# glowpick.head (3)"
   ]
  },
  {
   "cell_type": "code",
   "execution_count": 32,
   "metadata": {},
   "outputs": [
    {
     "data": {
      "text/html": [
       "<div>\n",
       "<style scoped>\n",
       "    .dataframe tbody tr th:only-of-type {\n",
       "        vertical-align: middle;\n",
       "    }\n",
       "\n",
       "    .dataframe tbody tr th {\n",
       "        vertical-align: top;\n",
       "    }\n",
       "\n",
       "    .dataframe thead th {\n",
       "        text-align: right;\n",
       "    }\n",
       "</style>\n",
       "<table border=\"1\" class=\"dataframe\">\n",
       "  <thead>\n",
       "    <tr style=\"text-align: right;\">\n",
       "      <th></th>\n",
       "      <th>contents</th>\n",
       "      <th>created_at</th>\n",
       "      <th>rating</th>\n",
       "      <th>origin_user_id</th>\n",
       "      <th>origin_product_id</th>\n",
       "      <th>origin_age</th>\n",
       "      <th>origin_gender</th>\n",
       "      <th>is_blinded</th>\n",
       "      <th>is_closed</th>\n",
       "      <th>is_inactivated</th>\n",
       "      <th>...</th>\n",
       "      <th>volume</th>\n",
       "      <th>price</th>\n",
       "      <th>brandName</th>\n",
       "      <th>origin_idThirdCategory</th>\n",
       "      <th>product_id</th>\n",
       "      <th>user_id</th>\n",
       "      <th>gender</th>\n",
       "      <th>age</th>\n",
       "      <th>skin_type</th>\n",
       "      <th>idThirdCategory</th>\n",
       "    </tr>\n",
       "  </thead>\n",
       "  <tbody>\n",
       "    <tr>\n",
       "      <th>0</th>\n",
       "      <td>티 컬렉션으로 출시되었던 제품으로, 가벼운 녹차향이 납니다. 향 자체는 좀 날리는 ...</td>\n",
       "      <td>2020-04-30T02:12:36Z</td>\n",
       "      <td>3</td>\n",
       "      <td>119763</td>\n",
       "      <td>100000</td>\n",
       "      <td>36.0</td>\n",
       "      <td>f</td>\n",
       "      <td>0.0</td>\n",
       "      <td>False</td>\n",
       "      <td>False</td>\n",
       "      <td>...</td>\n",
       "      <td>175g</td>\n",
       "      <td>11000.0</td>\n",
       "      <td>해피바스 (HAPPY BATH)</td>\n",
       "      <td>112.0</td>\n",
       "      <td>0</td>\n",
       "      <td>7230</td>\n",
       "      <td>0</td>\n",
       "      <td>32</td>\n",
       "      <td>2</td>\n",
       "      <td>108</td>\n",
       "    </tr>\n",
       "    <tr>\n",
       "      <th>1</th>\n",
       "      <td>살짝 로션같이 짜지고 묽음.\\r\\n향은 독하지 않고 적절히 향긋함.\\r\\n거품잘남\\...</td>\n",
       "      <td>2020-03-15T09:08:20Z</td>\n",
       "      <td>4</td>\n",
       "      <td>338669</td>\n",
       "      <td>100000</td>\n",
       "      <td>38.0</td>\n",
       "      <td>f</td>\n",
       "      <td>0.0</td>\n",
       "      <td>False</td>\n",
       "      <td>False</td>\n",
       "      <td>...</td>\n",
       "      <td>175g</td>\n",
       "      <td>11000.0</td>\n",
       "      <td>해피바스 (HAPPY BATH)</td>\n",
       "      <td>112.0</td>\n",
       "      <td>0</td>\n",
       "      <td>22864</td>\n",
       "      <td>0</td>\n",
       "      <td>34</td>\n",
       "      <td>3</td>\n",
       "      <td>108</td>\n",
       "    </tr>\n",
       "    <tr>\n",
       "      <th>2</th>\n",
       "      <td>해피바스는 무난하고 순한 매력이 있음! 다른것들도 잘 썼지만 정말 무난함,, 그치만...</td>\n",
       "      <td>2020-01-21T01:29:44Z</td>\n",
       "      <td>3</td>\n",
       "      <td>24862</td>\n",
       "      <td>100000</td>\n",
       "      <td>28.0</td>\n",
       "      <td>f</td>\n",
       "      <td>0.0</td>\n",
       "      <td>False</td>\n",
       "      <td>False</td>\n",
       "      <td>...</td>\n",
       "      <td>175g</td>\n",
       "      <td>11000.0</td>\n",
       "      <td>해피바스 (HAPPY BATH)</td>\n",
       "      <td>112.0</td>\n",
       "      <td>0</td>\n",
       "      <td>19317</td>\n",
       "      <td>0</td>\n",
       "      <td>24</td>\n",
       "      <td>2</td>\n",
       "      <td>108</td>\n",
       "    </tr>\n",
       "  </tbody>\n",
       "</table>\n",
       "<p>3 rows × 22 columns</p>\n",
       "</div>"
      ],
      "text/plain": [
       "                                            contents            created_at  \\\n",
       "0  티 컬렉션으로 출시되었던 제품으로, 가벼운 녹차향이 납니다. 향 자체는 좀 날리는 ...  2020-04-30T02:12:36Z   \n",
       "1  살짝 로션같이 짜지고 묽음.\\r\\n향은 독하지 않고 적절히 향긋함.\\r\\n거품잘남\\...  2020-03-15T09:08:20Z   \n",
       "2  해피바스는 무난하고 순한 매력이 있음! 다른것들도 잘 썼지만 정말 무난함,, 그치만...  2020-01-21T01:29:44Z   \n",
       "\n",
       "   rating origin_user_id origin_product_id  origin_age origin_gender  \\\n",
       "0       3         119763            100000        36.0             f   \n",
       "1       4         338669            100000        38.0             f   \n",
       "2       3          24862            100000        28.0             f   \n",
       "\n",
       "   is_blinded is_closed is_inactivated  ... volume    price  \\\n",
       "0         0.0     False          False  ...   175g  11000.0   \n",
       "1         0.0     False          False  ...   175g  11000.0   \n",
       "2         0.0     False          False  ...   175g  11000.0   \n",
       "\n",
       "           brandName  origin_idThirdCategory product_id  user_id  gender  age  \\\n",
       "0  해피바스 (HAPPY BATH)                   112.0          0     7230       0   32   \n",
       "1  해피바스 (HAPPY BATH)                   112.0          0    22864       0   34   \n",
       "2  해피바스 (HAPPY BATH)                   112.0          0    19317       0   24   \n",
       "\n",
       "   skin_type  idThirdCategory  \n",
       "0          2              108  \n",
       "1          3              108  \n",
       "2          2              108  \n",
       "\n",
       "[3 rows x 22 columns]"
      ]
     },
     "execution_count": 32,
     "metadata": {},
     "output_type": "execute_result"
    }
   ],
   "source": [
    "from sklearn.preprocessing import LabelEncoder\n",
    "\n",
    "# 1.Label Encoding for sparse features,and process sequence features\n",
    "# sparse_feature 는 origin_dict 의 원래 컬럼명. ex) origin_user_id (origin_이 붙은 컬럼명) : user_id (원래 컬럼 명)\n",
    "for feat, origin_feat in zip (sparse_features, origin_dict):\n",
    "    lbe = LabelEncoder()\n",
    "    glowpick [feat] = lbe.fit_transform (glowpick [origin_dict [origin_feat]])    \n",
    "    \n",
    "glowpick.head (3)"
   ]
  },
  {
   "cell_type": "markdown",
   "metadata": {},
   "source": [
    "### glowpick Dataframe을 저장"
   ]
  },
  {
   "cell_type": "code",
   "execution_count": 53,
   "metadata": {},
   "outputs": [],
   "source": [
    "# glowpick Dataframe을 저장하기 위해 index를 reset 시킴. \n",
    "# glowpick Dataframe의 결측치 rows 를 삭제 했으므로, index가 연속되지 않음. 그러면 저장 안됨\n",
    "glowpick.reset_index (drop = True, inplace = True)\n",
    "# glowpick Dataframe을 저장\n",
    "# glowpick.to_feather (FILE_PATH + 'glowpick.ftr')"
   ]
  },
  {
   "cell_type": "code",
   "execution_count": 54,
   "metadata": {},
   "outputs": [
    {
     "data": {
      "text/plain": [
       "contents           0\n",
       "created_at         0\n",
       "rating             0\n",
       "user_id            0\n",
       "product_id         0\n",
       "age                0\n",
       "gender             0\n",
       "is_blinded         0\n",
       "is_closed          0\n",
       "is_inactivated     0\n",
       "skin_type          0\n",
       "productTitle       0\n",
       "volume             0\n",
       "price              0\n",
       "brandName          0\n",
       "idThirdCategory    0\n",
       "dtype: int64"
      ]
     },
     "execution_count": 54,
     "metadata": {},
     "output_type": "execute_result"
    }
   ],
   "source": [
    "glowpick.isnull ().sum ()"
   ]
  },
  {
   "cell_type": "code",
   "execution_count": null,
   "metadata": {},
   "outputs": [],
   "source": []
  },
  {
   "cell_type": "code",
   "execution_count": null,
   "metadata": {},
   "outputs": [],
   "source": []
  },
  {
   "cell_type": "code",
   "execution_count": null,
   "metadata": {},
   "outputs": [],
   "source": []
  },
  {
   "cell_type": "markdown",
   "metadata": {},
   "source": [
    "### 2. sequence_feature에 대한 SparseFeat 생성"
   ]
  },
  {
   "cell_type": "code",
   "execution_count": 55,
   "metadata": {},
   "outputs": [
    {
     "data": {
      "text/plain": [
       "[SparseFeat(name='product_id', vocabulary_size=50761, embedding_dim=4, use_hash=False, dtype='int32', embedding_name='product_id', group_name='default_group'),\n",
       " SparseFeat(name='user_id', vocabulary_size=74773, embedding_dim=4, use_hash=False, dtype='int32', embedding_name='user_id', group_name='default_group'),\n",
       " SparseFeat(name='gender', vocabulary_size=2, embedding_dim=4, use_hash=False, dtype='int32', embedding_name='gender', group_name='default_group'),\n",
       " SparseFeat(name='age', vocabulary_size=67, embedding_dim=4, use_hash=False, dtype='int32', embedding_name='age', group_name='default_group'),\n",
       " SparseFeat(name='skin_type', vocabulary_size=5, embedding_dim=4, use_hash=False, dtype='int32', embedding_name='skin_type', group_name='default_group'),\n",
       " SparseFeat(name='idThirdCategory', vocabulary_size=286, embedding_dim=4, use_hash=False, dtype='int32', embedding_name='idThirdCategory', group_name='default_group')]"
      ]
     },
     "execution_count": 55,
     "metadata": {},
     "output_type": "execute_result"
    }
   ],
   "source": [
    "# 2.count #unique features for each sparse field and generate feature config for sequence feature\n",
    "\n",
    "fixlen_feature_columns = [SparseFeat (feat, glowpick [feat].nunique(), embedding_dim=4)\n",
    "                          for feat in sparse_features]\n",
    "fixlen_feature_columns"
   ]
  },
  {
   "cell_type": "code",
   "execution_count": 56,
   "metadata": {},
   "outputs": [
    {
     "data": {
      "text/plain": [
       "['product_id', 'user_id', 'gender', 'age', 'skin_type', 'idThirdCategory']"
      ]
     },
     "execution_count": 56,
     "metadata": {},
     "output_type": "execute_result"
    }
   ],
   "source": [
    "linear_feature_columns = fixlen_feature_columns\n",
    "dnn_feature_columns = fixlen_feature_columns\n",
    "feature_names = get_feature_names (linear_feature_columns + dnn_feature_columns)\n",
    "\n",
    "feature_names"
   ]
  },
  {
   "cell_type": "code",
   "execution_count": null,
   "metadata": {},
   "outputs": [],
   "source": []
  },
  {
   "cell_type": "markdown",
   "metadata": {},
   "source": [
    "### linear_feature_columns list 와 dnn_feature_columns list 를 저장"
   ]
  },
  {
   "cell_type": "code",
   "execution_count": null,
   "metadata": {},
   "outputs": [],
   "source": [
    "# import pickle\n",
    "\n",
    "# with open (FILE_PATH + 'linear_feature_columns_list.pickle', 'wb') as fp:\n",
    "#     pickle.dump (linear_feature_columns, fp)\n",
    "    \n",
    "# with open (FILE_PATH + 'dnn_feature_columns_list.pickle', 'wb') as fp:\n",
    "#     pickle.dump (dnn_feature_columns, fp)"
   ]
  },
  {
   "cell_type": "code",
   "execution_count": null,
   "metadata": {},
   "outputs": [],
   "source": [
    "# with open (FILE_PATH + 'linear_feature_columns_list.pickle', 'rb') as fp:\n",
    "#     linear_feature_columns = pickle.load (fp)\n",
    "    \n",
    "# with open (FILE_PATH + 'dnn_feature_columns_list.pickle', 'rb') as fp:\n",
    "#     dnn_feature_columns = pickle.load (fp)"
   ]
  },
  {
   "cell_type": "code",
   "execution_count": null,
   "metadata": {},
   "outputs": [],
   "source": []
  },
  {
   "cell_type": "code",
   "execution_count": null,
   "metadata": {},
   "outputs": [],
   "source": [
    "type (dnn_feature_columns)"
   ]
  },
  {
   "cell_type": "markdown",
   "metadata": {},
   "source": [
    "### 3. input data 생성"
   ]
  },
  {
   "cell_type": "code",
   "execution_count": 58,
   "metadata": {},
   "outputs": [],
   "source": [
    "# 3.generate input data for model\n",
    "train, test = train_test_split (glowpick, test_size = 0.2)\n",
    "train_model_input = {name: train [name] for name in feature_names}\n",
    "test_model_input = {name: test [name] for name in feature_names}"
   ]
  },
  {
   "cell_type": "code",
   "execution_count": null,
   "metadata": {},
   "outputs": [],
   "source": [
    "device = 'cpu'\n",
    "use_cuda = True\n",
    "if use_cuda and torch.cuda.is_available():\n",
    "    print('cuda ready...')\n",
    "    device = 'cuda:0'"
   ]
  },
  {
   "cell_type": "code",
   "execution_count": null,
   "metadata": {},
   "outputs": [],
   "source": []
  },
  {
   "cell_type": "markdown",
   "metadata": {},
   "source": [
    "### 4. Training"
   ]
  },
  {
   "cell_type": "code",
   "execution_count": null,
   "metadata": {},
   "outputs": [],
   "source": [
    "model = DeepFM (linear_feature_columns, dnn_feature_columns, task = 'regression', device = device)\n",
    "model.compile (\"adam\", \"mse\", metrics=['mse'], )"
   ]
  },
  {
   "cell_type": "code",
   "execution_count": null,
   "metadata": {},
   "outputs": [],
   "source": [
    "history = model.fit (train_model_input, train [target].values,\n",
    "                    batch_size = 256, epochs = 6, verbose = 2, validation_split = 0.2, )"
   ]
  },
  {
   "cell_type": "code",
   "execution_count": null,
   "metadata": {},
   "outputs": [],
   "source": []
  },
  {
   "cell_type": "markdown",
   "metadata": {},
   "source": [
    "### model 저장"
   ]
  },
  {
   "cell_type": "code",
   "execution_count": null,
   "metadata": {},
   "outputs": [],
   "source": [
    "# torch.save (model.state_dict (), MODEL_PATH)"
   ]
  },
  {
   "cell_type": "code",
   "execution_count": null,
   "metadata": {},
   "outputs": [],
   "source": [
    "model = DeepFM (linear_feature_columns, dnn_feature_columns, task = 'regression', device = device)\n",
    "model.load_state_dict (torch.load (MODEL_PATH))\n",
    "model.eval ()"
   ]
  },
  {
   "cell_type": "code",
   "execution_count": null,
   "metadata": {},
   "outputs": [],
   "source": []
  },
  {
   "cell_type": "markdown",
   "metadata": {},
   "source": [
    "### 05.25일 categories 데이터 에러였을때 ----------"
   ]
  },
  {
   "cell_type": "code",
   "execution_count": null,
   "metadata": {},
   "outputs": [],
   "source": [
    "history = model.fit (train_model_input, train[target].values,\n",
    "                    batch_size = 256, epochs = 5, verbose = 2, validation_split = 0.2, )"
   ]
  },
  {
   "cell_type": "code",
   "execution_count": null,
   "metadata": {},
   "outputs": [],
   "source": []
  },
  {
   "cell_type": "code",
   "execution_count": null,
   "metadata": {},
   "outputs": [],
   "source": [
    "# epoch 10\n",
    "pred_ans = model.predict (test_model_input, batch_size = 256)\n",
    "print(\"test MSE\", round (mean_squared_error (test [target].values, pred_ans), 4))"
   ]
  },
  {
   "cell_type": "code",
   "execution_count": null,
   "metadata": {},
   "outputs": [],
   "source": [
    "from math import sqrt\n",
    "\n",
    "rms = sqrt (mean_squared_error (test [target].values, pred_ans))\n",
    "print (rms)\n",
    "\n",
    "# 1.03"
   ]
  },
  {
   "cell_type": "code",
   "execution_count": null,
   "metadata": {},
   "outputs": [],
   "source": [
    "# epoch 5\n",
    "\n",
    "pred_ans = model.predict (test_model_input, batch_size = 256)\n",
    "print(\"test MSE\", round(mean_squared_error(\n",
    "    test [target].values, pred_ans), 4))"
   ]
  },
  {
   "cell_type": "code",
   "execution_count": null,
   "metadata": {},
   "outputs": [],
   "source": [
    "print (\"test RMSE\", round (sqrt (mean_squared_error (test [target].values, pred_ans)), 4))\n",
    "# 0.98"
   ]
  },
  {
   "cell_type": "markdown",
   "metadata": {},
   "source": [
    "### ---------- 05.25일 categories 데이터 에러였을때"
   ]
  },
  {
   "cell_type": "code",
   "execution_count": null,
   "metadata": {},
   "outputs": [],
   "source": []
  },
  {
   "cell_type": "markdown",
   "metadata": {},
   "source": [
    "### 5. 평가"
   ]
  },
  {
   "cell_type": "code",
   "execution_count": null,
   "metadata": {},
   "outputs": [],
   "source": [
    "# epoch 10\n",
    "from math import sqrt\n",
    "\n",
    "pred_ans = model.predict (test_model_input, batch_size = 256)\n",
    "\n",
    "print(\"test MSE\", round (mean_squared_error (test [target].values, pred_ans), 4))\n",
    "\n",
    "print (\"\\ntest RMSE\", sqrt (mean_squared_error (test [target].values, pred_ans)))"
   ]
  },
  {
   "cell_type": "code",
   "execution_count": null,
   "metadata": {},
   "outputs": [],
   "source": [
    "# epoch 6\n",
    "from math import sqrt\n",
    "\n",
    "pred_ans = model.predict (test_model_input, batch_size = 256)\n",
    "\n",
    "print(\"test MSE\", round (mean_squared_error (test [target].values, pred_ans), 4))\n",
    "\n",
    "print (\"\\ntest RMSE\", sqrt (mean_squared_error (test [target].values, pred_ans)))"
   ]
  },
  {
   "cell_type": "code",
   "execution_count": null,
   "metadata": {},
   "outputs": [],
   "source": []
  },
  {
   "cell_type": "code",
   "execution_count": null,
   "metadata": {},
   "outputs": [],
   "source": []
  },
  {
   "cell_type": "markdown",
   "metadata": {},
   "source": [
    "### 실제 유저용 메서드"
   ]
  },
  {
   "cell_type": "code",
   "execution_count": null,
   "metadata": {},
   "outputs": [],
   "source": [
    "show_cols = ['created_at', 'rating', 'user_id', 'product_id', 'age', 'gender', 'is_closed', 'skin_type', 'productTitle', 'volume', 'price', 'brandName', 'idThirdCategory']\n",
    "\n",
    "real_method_df = glowpick [show_cols]\n",
    "real_method_df.head (10)"
   ]
  },
  {
   "cell_type": "code",
   "execution_count": null,
   "metadata": {},
   "outputs": [],
   "source": [
    "real_user_id = 7230\n",
    "\n",
    "real_user_df = real_method_df [real_method_df ['user_id'] == real_user_id]\n",
    "real_user_df"
   ]
  },
  {
   "cell_type": "code",
   "execution_count": null,
   "metadata": {},
   "outputs": [],
   "source": []
  },
  {
   "cell_type": "code",
   "execution_count": null,
   "metadata": {},
   "outputs": [],
   "source": [
    "real_fixlen_feature_columns = [SparseFeat (feat, real_user_df [feat].nunique(), embedding_dim=4)\n",
    "                          for feat in sparse_features]\n",
    "real_fixlen_feature_columns"
   ]
  },
  {
   "cell_type": "code",
   "execution_count": null,
   "metadata": {},
   "outputs": [],
   "source": [
    "real_model_input = {name: real_user_df [name] for name in feature_names}"
   ]
  },
  {
   "cell_type": "code",
   "execution_count": null,
   "metadata": {},
   "outputs": [],
   "source": [
    "# epoch 10\n",
    "from math import sqrt\n",
    "\n",
    "pred_ans = model.predict (real_model_input, batch_size = 256)\n",
    "\n",
    "print(\"test MSE\", round (mean_squared_error (real_user_df [target].values, pred_ans), 4))\n",
    "\n",
    "print (\"\\ntest RMSE\", sqrt (mean_squared_error (real_user_df [target].values, pred_ans)))"
   ]
  },
  {
   "cell_type": "code",
   "execution_count": null,
   "metadata": {},
   "outputs": [],
   "source": [
    "pred_list = list (map (lambda x : round (x, 2), pred_ans.flatten ().tolist ()))   # 예측한 점수 리스트\n",
    "target_list = real_user_df [target].values.flatten ().tolist ()  # 실제 점수 리스트\n",
    "\n",
    "result_list = list (zip (pred_list, target_list))\n",
    "result_list"
   ]
  },
  {
   "cell_type": "code",
   "execution_count": null,
   "metadata": {},
   "outputs": [],
   "source": [
    "type (real_method_df [target].values)"
   ]
  },
  {
   "cell_type": "code",
   "execution_count": null,
   "metadata": {},
   "outputs": [],
   "source": [
    "pred_ans.flatten ().tolist ()"
   ]
  },
  {
   "cell_type": "code",
   "execution_count": null,
   "metadata": {},
   "outputs": [],
   "source": []
  },
  {
   "cell_type": "code",
   "execution_count": null,
   "metadata": {},
   "outputs": [],
   "source": [
    "real_user_df"
   ]
  },
  {
   "cell_type": "code",
   "execution_count": null,
   "metadata": {},
   "outputs": [],
   "source": [
    "user_review_indexs = list (real_method_df [real_method_df ['user_id'] == real_user_id].index)\n",
    "print (user_review_indexs, '\\n')\n",
    "print (len (user_review_indexs))"
   ]
  },
  {
   "cell_type": "code",
   "execution_count": null,
   "metadata": {},
   "outputs": [],
   "source": [
    "glowpick.loc [5734]"
   ]
  },
  {
   "cell_type": "code",
   "execution_count": null,
   "metadata": {},
   "outputs": [],
   "source": [
    "glowpick.head ()"
   ]
  },
  {
   "cell_type": "code",
   "execution_count": null,
   "metadata": {},
   "outputs": [],
   "source": []
  },
  {
   "cell_type": "code",
   "execution_count": null,
   "metadata": {},
   "outputs": [],
   "source": [
    "user_review_indexs"
   ]
  },
  {
   "cell_type": "code",
   "execution_count": null,
   "metadata": {},
   "outputs": [],
   "source": [
    "user_not_reviews_df = glowpick.loc [~glowpick.index.isin (user_review_indexs)]\n",
    "\n",
    "user_not_reviews_df"
   ]
  },
  {
   "cell_type": "code",
   "execution_count": null,
   "metadata": {},
   "outputs": [],
   "source": [
    "len (glowpick) - len (user_review_indexs)"
   ]
  },
  {
   "cell_type": "code",
   "execution_count": null,
   "metadata": {},
   "outputs": [],
   "source": [
    "len (user_review_indexs)"
   ]
  },
  {
   "cell_type": "code",
   "execution_count": null,
   "metadata": {},
   "outputs": [],
   "source": [
    "all (user_index in user_not_reviews_list for user_index in user_review_indexs)    "
   ]
  },
  {
   "cell_type": "code",
   "execution_count": null,
   "metadata": {},
   "outputs": [],
   "source": [
    "user_not_reviews_list = list (user_not_reviews_df.index)\n",
    "len (user_not_reviews_list)"
   ]
  },
  {
   "cell_type": "code",
   "execution_count": null,
   "metadata": {},
   "outputs": [],
   "source": [
    "user_not_reviews_list [: 10]"
   ]
  },
  {
   "cell_type": "code",
   "execution_count": null,
   "metadata": {},
   "outputs": [],
   "source": [
    "1 in user_not_reviews_list"
   ]
  },
  {
   "cell_type": "code",
   "execution_count": null,
   "metadata": {},
   "outputs": [],
   "source": [
    "user_review_indexs in user_not_reviews_list"
   ]
  },
  {
   "cell_type": "code",
   "execution_count": null,
   "metadata": {},
   "outputs": [],
   "source": [
    "len (real_user_df)"
   ]
  },
  {
   "cell_type": "code",
   "execution_count": null,
   "metadata": {},
   "outputs": [],
   "source": [
    "len (user_not_reviews_df ['product_id'])"
   ]
  },
  {
   "cell_type": "code",
   "execution_count": null,
   "metadata": {},
   "outputs": [],
   "source": [
    "print (real_user_df ['product_id'].unique ().tolist ())"
   ]
  },
  {
   "cell_type": "code",
   "execution_count": null,
   "metadata": {},
   "outputs": [],
   "source": [
    "unique_review_products = real_user_df ['product_id'].unique ().tolist ()\n",
    "unique_review_products.sort ()\n",
    "print (unique_review_products)"
   ]
  },
  {
   "cell_type": "code",
   "execution_count": null,
   "metadata": {},
   "outputs": [],
   "source": [
    "unique_not_review_products = user_not_reviews_df ['product_id'].unique ().tolist ()\n",
    "unique_not_review_products.sort ()\n",
    "print (unique_not_review_products)"
   ]
  },
  {
   "cell_type": "code",
   "execution_count": null,
   "metadata": {},
   "outputs": [],
   "source": [
    "print (user_not_reviews_df ['product_id'].unique ().tolist ())"
   ]
  },
  {
   "cell_type": "code",
   "execution_count": null,
   "metadata": {},
   "outputs": [],
   "source": [
    "len (glowpick.loc [~glowpick.index.isin (user_review_indexs)] ['product_id'].unique ())"
   ]
  },
  {
   "cell_type": "code",
   "execution_count": null,
   "metadata": {},
   "outputs": [],
   "source": [
    "user_not_reviews_df ['product_id'].value_counts ()"
   ]
  },
  {
   "cell_type": "code",
   "execution_count": null,
   "metadata": {},
   "outputs": [],
   "source": [
    "glowpick ['product_id'].nunique ()"
   ]
  },
  {
   "cell_type": "code",
   "execution_count": null,
   "metadata": {},
   "outputs": [],
   "source": [
    "len (real_method_df ['product_id'].unique ())"
   ]
  },
  {
   "cell_type": "code",
   "execution_count": null,
   "metadata": {},
   "outputs": [],
   "source": [
    "\n",
    "len (real_user_df ['product_id'].unique ())"
   ]
  },
  {
   "cell_type": "code",
   "execution_count": null,
   "metadata": {},
   "outputs": [],
   "source": [
    "real_method_df"
   ]
  },
  {
   "cell_type": "code",
   "execution_count": null,
   "metadata": {},
   "outputs": [],
   "source": []
  },
  {
   "cell_type": "code",
   "execution_count": null,
   "metadata": {},
   "outputs": [],
   "source": []
  },
  {
   "cell_type": "code",
   "execution_count": null,
   "metadata": {},
   "outputs": [],
   "source": []
  },
  {
   "cell_type": "code",
   "execution_count": null,
   "metadata": {},
   "outputs": [],
   "source": []
  }
 ],
 "metadata": {
  "kernelspec": {
   "display_name": "Python 3",
   "language": "python",
   "name": "python3"
  },
  "language_info": {
   "codemirror_mode": {
    "name": "ipython",
    "version": 3
   },
   "file_extension": ".py",
   "mimetype": "text/x-python",
   "name": "python",
   "nbconvert_exporter": "python",
   "pygments_lexer": "ipython3",
   "version": "3.7.7"
  }
 },
 "nbformat": 4,
 "nbformat_minor": 4
}
