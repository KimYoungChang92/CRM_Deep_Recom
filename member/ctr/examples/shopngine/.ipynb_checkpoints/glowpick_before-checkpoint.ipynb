{
 "cells": [
  {
   "cell_type": "code",
   "execution_count": 1,
   "metadata": {},
   "outputs": [],
   "source": [
    "import sys\n",
    "sys.path.append(\"..\")\n",
    "\n",
    "import common\n",
    "from common import FILE_PATH\n",
    "from common import MODEL_PATH\n",
    "\n",
    "import torch\n",
    "import pandas as pd\n",
    "import numpy as np\n",
    "import matplotlib.pyplot as plt\n",
    "import seaborn as sns\n",
    "from sklearn.preprocessing import MinMaxScaler\n",
    "from sklearn.metrics import mean_squared_error\n",
    "from sklearn.model_selection import train_test_split\n",
    "\n",
    "from deepctr_torch.inputs import SparseFeat, VarLenSparseFeat, get_feature_names\n",
    "from deepctr_torch.models import DeepFM\n",
    "import pickle\n",
    "\n",
    "%load_ext autoreload\n",
    "%autoreload 2\n",
    "import product_refine\n",
    "\n",
    "st = sns.axes_style(\"whitegrid\")\n",
    "sns.set_style(\"ticks\", {\"xtick.major.size\": 8, \"ytick.major.size\": 8})\n",
    "\n",
    "plt.rcParams ['font.family'] = 'NanumGothic'\n",
    "\n",
    "import warnings\n",
    "warnings.filterwarnings(\"ignore\")"
   ]
  },
  {
   "cell_type": "code",
   "execution_count": 3,
   "metadata": {},
   "outputs": [
    {
     "data": {
      "text/html": [
       "<div>\n",
       "<style scoped>\n",
       "    .dataframe tbody tr th:only-of-type {\n",
       "        vertical-align: middle;\n",
       "    }\n",
       "\n",
       "    .dataframe tbody tr th {\n",
       "        vertical-align: top;\n",
       "    }\n",
       "\n",
       "    .dataframe thead th {\n",
       "        text-align: right;\n",
       "    }\n",
       "</style>\n",
       "<table border=\"1\" class=\"dataframe\">\n",
       "  <thead>\n",
       "    <tr style=\"text-align: right;\">\n",
       "      <th></th>\n",
       "      <th>contents</th>\n",
       "      <th>created_at</th>\n",
       "      <th>is_evaluation</th>\n",
       "      <th>like_count</th>\n",
       "      <th>rating</th>\n",
       "      <th>review_id</th>\n",
       "      <th>state</th>\n",
       "      <th>user_id</th>\n",
       "      <th>product_id</th>\n",
       "    </tr>\n",
       "  </thead>\n",
       "  <tbody>\n",
       "    <tr>\n",
       "      <th>0</th>\n",
       "      <td>티 컬렉션으로 출시되었던 제품으로, 가벼운 녹차향이 납니다. 향 자체는 좀 날리는 ...</td>\n",
       "      <td>2020-04-30T02:12:36Z</td>\n",
       "      <td>False</td>\n",
       "      <td>0</td>\n",
       "      <td>3</td>\n",
       "      <td>5416271</td>\n",
       "      <td>N</td>\n",
       "      <td>119763</td>\n",
       "      <td>100000</td>\n",
       "    </tr>\n",
       "    <tr>\n",
       "      <th>1</th>\n",
       "      <td>살짝 로션같이 짜지고 묽음.\\r\\n향은 독하지 않고 적절히 향긋함.\\r\\n거품잘남\\...</td>\n",
       "      <td>2020-03-15T09:08:20Z</td>\n",
       "      <td>False</td>\n",
       "      <td>0</td>\n",
       "      <td>4</td>\n",
       "      <td>5340616</td>\n",
       "      <td>N</td>\n",
       "      <td>338669</td>\n",
       "      <td>100000</td>\n",
       "    </tr>\n",
       "    <tr>\n",
       "      <th>2</th>\n",
       "      <td>해피바스는 무난하고 순한 매력이 있음! 다른것들도 잘 썼지만 정말 무난함,, 그치만...</td>\n",
       "      <td>2020-01-21T01:29:44Z</td>\n",
       "      <td>False</td>\n",
       "      <td>0</td>\n",
       "      <td>3</td>\n",
       "      <td>5228598</td>\n",
       "      <td>N</td>\n",
       "      <td>24862</td>\n",
       "      <td>100000</td>\n",
       "    </tr>\n",
       "    <tr>\n",
       "      <th>3</th>\n",
       "      <td>순하고 가격적으로 무난해서 쓰기 괜찮아요오오</td>\n",
       "      <td>2020-01-18T08:03:59Z</td>\n",
       "      <td>False</td>\n",
       "      <td>0</td>\n",
       "      <td>4</td>\n",
       "      <td>5225359</td>\n",
       "      <td>N</td>\n",
       "      <td>1331797</td>\n",
       "      <td>100000</td>\n",
       "    </tr>\n",
       "    <tr>\n",
       "      <th>4</th>\n",
       "      <td>성분이 착해서 샀고 타입이 폼이라 짜서 쓰는 젤보다 약간 귀찮지만 거품은 바로 많이...</td>\n",
       "      <td>2020-01-11T07:15:15Z</td>\n",
       "      <td>False</td>\n",
       "      <td>0</td>\n",
       "      <td>4</td>\n",
       "      <td>5211274</td>\n",
       "      <td>N</td>\n",
       "      <td>888968</td>\n",
       "      <td>100000</td>\n",
       "    </tr>\n",
       "  </tbody>\n",
       "</table>\n",
       "</div>"
      ],
      "text/plain": [
       "                                            contents            created_at  \\\n",
       "0  티 컬렉션으로 출시되었던 제품으로, 가벼운 녹차향이 납니다. 향 자체는 좀 날리는 ...  2020-04-30T02:12:36Z   \n",
       "1  살짝 로션같이 짜지고 묽음.\\r\\n향은 독하지 않고 적절히 향긋함.\\r\\n거품잘남\\...  2020-03-15T09:08:20Z   \n",
       "2  해피바스는 무난하고 순한 매력이 있음! 다른것들도 잘 썼지만 정말 무난함,, 그치만...  2020-01-21T01:29:44Z   \n",
       "3                           순하고 가격적으로 무난해서 쓰기 괜찮아요오오  2020-01-18T08:03:59Z   \n",
       "4  성분이 착해서 샀고 타입이 폼이라 짜서 쓰는 젤보다 약간 귀찮지만 거품은 바로 많이...  2020-01-11T07:15:15Z   \n",
       "\n",
       "   is_evaluation  like_count  rating  review_id state  user_id  product_id  \n",
       "0          False           0       3    5416271     N   119763      100000  \n",
       "1          False           0       4    5340616     N   338669      100000  \n",
       "2          False           0       3    5228598     N    24862      100000  \n",
       "3          False           0       4    5225359     N  1331797      100000  \n",
       "4          False           0       4    5211274     N   888968      100000  "
      ]
     },
     "execution_count": 3,
     "metadata": {},
     "output_type": "execute_result"
    }
   ],
   "source": [
    "# 리뷰 정보 읽어들이기\n",
    "reviews = pd.read_csv (FILE_PATH + 'reviews.txt', sep = ',')\n",
    "reviews.head ()"
   ]
  },
  {
   "cell_type": "code",
   "execution_count": 4,
   "metadata": {},
   "outputs": [
    {
     "name": "stdout",
     "output_type": "stream",
     "text": [
      "<class 'pandas.core.frame.DataFrame'>\n",
      "RangeIndex: 1574817 entries, 0 to 1574816\n",
      "Data columns (total 9 columns):\n",
      " #   Column         Non-Null Count    Dtype \n",
      "---  ------         --------------    ----- \n",
      " 0   contents       1574817 non-null  object\n",
      " 1   created_at     1574817 non-null  object\n",
      " 2   is_evaluation  1574817 non-null  bool  \n",
      " 3   like_count     1574817 non-null  int64 \n",
      " 4   rating         1574817 non-null  int64 \n",
      " 5   review_id      1574817 non-null  int64 \n",
      " 6   state          1574817 non-null  object\n",
      " 7   user_id        1574817 non-null  int64 \n",
      " 8   product_id     1574817 non-null  int64 \n",
      "dtypes: bool(1), int64(5), object(3)\n",
      "memory usage: 97.6+ MB\n"
     ]
    }
   ],
   "source": [
    "reviews.info ()"
   ]
  },
  {
   "cell_type": "code",
   "execution_count": 5,
   "metadata": {},
   "outputs": [
    {
     "data": {
      "text/html": [
       "<div>\n",
       "<style scoped>\n",
       "    .dataframe tbody tr th:only-of-type {\n",
       "        vertical-align: middle;\n",
       "    }\n",
       "\n",
       "    .dataframe tbody tr th {\n",
       "        vertical-align: top;\n",
       "    }\n",
       "\n",
       "    .dataframe thead th {\n",
       "        text-align: right;\n",
       "    }\n",
       "</style>\n",
       "<table border=\"1\" class=\"dataframe\">\n",
       "  <thead>\n",
       "    <tr style=\"text-align: right;\">\n",
       "      <th></th>\n",
       "      <th>id</th>\n",
       "      <th>rank</th>\n",
       "      <th>title</th>\n",
       "      <th>volume</th>\n",
       "      <th>price</th>\n",
       "      <th>reviewCnt</th>\n",
       "      <th>ratingAvg</th>\n",
       "      <th>productImg</th>\n",
       "      <th>isDiscontinue</th>\n",
       "      <th>rankChange</th>\n",
       "      <th>rankChangeType</th>\n",
       "      <th>brand</th>\n",
       "      <th>goodsInfo</th>\n",
       "    </tr>\n",
       "  </thead>\n",
       "  <tbody>\n",
       "    <tr>\n",
       "      <th>0</th>\n",
       "      <td>108711</td>\n",
       "      <td>5</td>\n",
       "      <td>코스메티 LED 마스크</td>\n",
       "      <td>1ea</td>\n",
       "      <td>219000</td>\n",
       "      <td>4</td>\n",
       "      <td>3.75</td>\n",
       "      <td>https://d9vmi5fxk1gsw.cloudfront.net/home/glow...</td>\n",
       "      <td>False</td>\n",
       "      <td>0</td>\n",
       "      <td>show</td>\n",
       "      <td>{'idBrand': None, 'brandTitle': '아름다운연구소', 'br...</td>\n",
       "      <td>{'goodsCount': 0}</td>\n",
       "    </tr>\n",
       "    <tr>\n",
       "      <th>1</th>\n",
       "      <td>118971</td>\n",
       "      <td>6</td>\n",
       "      <td>LED 마스크</td>\n",
       "      <td>1ea</td>\n",
       "      <td>149000</td>\n",
       "      <td>2</td>\n",
       "      <td>4.0</td>\n",
       "      <td>https://d9vmi5fxk1gsw.cloudfront.net/home/glow...</td>\n",
       "      <td>False</td>\n",
       "      <td>0</td>\n",
       "      <td>show</td>\n",
       "      <td>{'idBrand': None, 'brandTitle': '에끌레어 (eclair)...</td>\n",
       "      <td>{'goodsCount': 0}</td>\n",
       "    </tr>\n",
       "    <tr>\n",
       "      <th>2</th>\n",
       "      <td>118819</td>\n",
       "      <td>7</td>\n",
       "      <td>디쎄 1.0 LED 마스크 [업무용]</td>\n",
       "      <td>1ea</td>\n",
       "      <td>1320000</td>\n",
       "      <td>1</td>\n",
       "      <td>5.0</td>\n",
       "      <td>https://d9vmi5fxk1gsw.cloudfront.net/home/glow...</td>\n",
       "      <td>False</td>\n",
       "      <td>0</td>\n",
       "      <td>show</td>\n",
       "      <td>{'idBrand': None, 'brandTitle': '닥터슈라클 (Dr.Ceu...</td>\n",
       "      <td>{'goodsCount': 0}</td>\n",
       "    </tr>\n",
       "    <tr>\n",
       "      <th>3</th>\n",
       "      <td>90929</td>\n",
       "      <td>8</td>\n",
       "      <td>LED 리얼 마스크</td>\n",
       "      <td>1ea</td>\n",
       "      <td>198000</td>\n",
       "      <td>1</td>\n",
       "      <td>4.0</td>\n",
       "      <td>https://d9vmi5fxk1gsw.cloudfront.net/home/glow...</td>\n",
       "      <td>False</td>\n",
       "      <td>0</td>\n",
       "      <td>show</td>\n",
       "      <td>{'idBrand': None, 'brandTitle': '솔루미에스테 (SOLLU...</td>\n",
       "      <td>{'goodsCount': 0}</td>\n",
       "    </tr>\n",
       "    <tr>\n",
       "      <th>4</th>\n",
       "      <td>127206</td>\n",
       "      <td>9</td>\n",
       "      <td>인텐시브 LED 마스크 프리미엄</td>\n",
       "      <td>1ea</td>\n",
       "      <td>1517100</td>\n",
       "      <td>1</td>\n",
       "      <td>5.0</td>\n",
       "      <td>https://d9vmi5fxk1gsw.cloudfront.net/home/glow...</td>\n",
       "      <td>False</td>\n",
       "      <td>0</td>\n",
       "      <td>show</td>\n",
       "      <td>{'idBrand': None, 'brandTitle': '엘리닉 (L Linic)...</td>\n",
       "      <td>{'goodsCount': 0}</td>\n",
       "    </tr>\n",
       "  </tbody>\n",
       "</table>\n",
       "</div>"
      ],
      "text/plain": [
       "       id rank                 title volume    price reviewCnt ratingAvg  \\\n",
       "0  108711    5          코스메티 LED 마스크    1ea   219000         4      3.75   \n",
       "1  118971    6               LED 마스크    1ea   149000         2       4.0   \n",
       "2  118819    7  디쎄 1.0 LED 마스크 [업무용]    1ea  1320000         1       5.0   \n",
       "3   90929    8            LED 리얼 마스크    1ea   198000         1       4.0   \n",
       "4  127206    9     인텐시브 LED 마스크 프리미엄    1ea  1517100         1       5.0   \n",
       "\n",
       "                                          productImg isDiscontinue rankChange  \\\n",
       "0  https://d9vmi5fxk1gsw.cloudfront.net/home/glow...         False          0   \n",
       "1  https://d9vmi5fxk1gsw.cloudfront.net/home/glow...         False          0   \n",
       "2  https://d9vmi5fxk1gsw.cloudfront.net/home/glow...         False          0   \n",
       "3  https://d9vmi5fxk1gsw.cloudfront.net/home/glow...         False          0   \n",
       "4  https://d9vmi5fxk1gsw.cloudfront.net/home/glow...         False          0   \n",
       "\n",
       "  rankChangeType                                              brand  \\\n",
       "0           show  {'idBrand': None, 'brandTitle': '아름다운연구소', 'br...   \n",
       "1           show  {'idBrand': None, 'brandTitle': '에끌레어 (eclair)...   \n",
       "2           show  {'idBrand': None, 'brandTitle': '닥터슈라클 (Dr.Ceu...   \n",
       "3           show  {'idBrand': None, 'brandTitle': '솔루미에스테 (SOLLU...   \n",
       "4           show  {'idBrand': None, 'brandTitle': '엘리닉 (L Linic)...   \n",
       "\n",
       "           goodsInfo  \n",
       "0  {'goodsCount': 0}  \n",
       "1  {'goodsCount': 0}  \n",
       "2  {'goodsCount': 0}  \n",
       "3  {'goodsCount': 0}  \n",
       "4  {'goodsCount': 0}  "
      ]
     },
     "execution_count": 5,
     "metadata": {},
     "output_type": "execute_result"
    }
   ],
   "source": [
    "products = pd.read_csv (FILE_PATH + 'products.txt', sep = ',')\n",
    "products.head ()"
   ]
  },
  {
   "cell_type": "code",
   "execution_count": 7,
   "metadata": {},
   "outputs": [
    {
     "name": "stdout",
     "output_type": "stream",
     "text": [
      "<class 'pandas.core.frame.DataFrame'>\n",
      "RangeIndex: 89059 entries, 0 to 89058\n",
      "Data columns (total 13 columns):\n",
      " #   Column          Non-Null Count  Dtype \n",
      "---  ------          --------------  ----- \n",
      " 0   id              89059 non-null  object\n",
      " 1   rank            89059 non-null  object\n",
      " 2   title           89059 non-null  object\n",
      " 3   volume          89059 non-null  object\n",
      " 4   price           89036 non-null  object\n",
      " 5   reviewCnt       89059 non-null  object\n",
      " 6   ratingAvg       89059 non-null  object\n",
      " 7   productImg      89058 non-null  object\n",
      " 8   isDiscontinue   89059 non-null  object\n",
      " 9   rankChange      89059 non-null  object\n",
      " 10  rankChangeType  89059 non-null  object\n",
      " 11  brand           89059 non-null  object\n",
      " 12  goodsInfo       89059 non-null  object\n",
      "dtypes: object(13)\n",
      "memory usage: 8.8+ MB\n"
     ]
    }
   ],
   "source": [
    "products.info ()"
   ]
  },
  {
   "cell_type": "code",
   "execution_count": null,
   "metadata": {},
   "outputs": [],
   "source": [
    "title_list = ['글램락 미스티 로즈','럭스 립 칼라','압솔뤼 루즈','누드롭 듀이스틱','매드 매트 립','글램락 허쉬 브라운','너리싱 립 칼라','르 루즈','루즈 아르마니','데어 루즈 벨벳','페이드 매트 립스틱','스무스 매트 립스틱','립컷 루즈 벨벳']\n",
    "products [products ['title'].isin (title_list)]"
   ]
  },
  {
   "cell_type": "code",
   "execution_count": null,
   "metadata": {},
   "outputs": [],
   "source": [
    "products [products ['title'] == '립스틱']"
   ]
  },
  {
   "cell_type": "code",
   "execution_count": null,
   "metadata": {},
   "outputs": [],
   "source": [
    "products ['title'].value_counts ()"
   ]
  },
  {
   "cell_type": "code",
   "execution_count": 1,
   "metadata": {},
   "outputs": [
    {
     "ename": "NameError",
     "evalue": "name 'products' is not defined",
     "output_type": "error",
     "traceback": [
      "\u001b[0;31m---------------------------------------------------------------------------\u001b[0m",
      "\u001b[0;31mNameError\u001b[0m                                 Traceback (most recent call last)",
      "\u001b[0;32m<ipython-input-1-26ebd3266caa>\u001b[0m in \u001b[0;36m<module>\u001b[0;34m\u001b[0m\n\u001b[0;32m----> 1\u001b[0;31m \u001b[0mlen\u001b[0m \u001b[0;34m(\u001b[0m\u001b[0mproducts\u001b[0m \u001b[0;34m[\u001b[0m\u001b[0mproducts\u001b[0m \u001b[0;34m[\u001b[0m\u001b[0;34m'id'\u001b[0m\u001b[0;34m]\u001b[0m \u001b[0;34m!=\u001b[0m \u001b[0;34m'id'\u001b[0m\u001b[0;34m]\u001b[0m\u001b[0;34m)\u001b[0m\u001b[0;34m\u001b[0m\u001b[0;34m\u001b[0m\u001b[0m\n\u001b[0m",
      "\u001b[0;31mNameError\u001b[0m: name 'products' is not defined"
     ]
    }
   ],
   "source": [
    "len (products [products ['product_id'] != 'product_id'])"
   ]
  },
  {
   "cell_type": "code",
   "execution_count": 6,
   "metadata": {},
   "outputs": [
    {
     "name": "stdout",
     "output_type": "stream",
     "text": [
      "<class 'pandas.core.frame.DataFrame'>\n",
      "Int64Index: 88774 entries, 0 to 89058\n",
      "Data columns (total 13 columns):\n",
      " #   Column          Non-Null Count  Dtype \n",
      "---  ------          --------------  ----- \n",
      " 0   id              88774 non-null  object\n",
      " 1   rank            88774 non-null  object\n",
      " 2   title           88774 non-null  object\n",
      " 3   volume          88774 non-null  object\n",
      " 4   price           88751 non-null  object\n",
      " 5   reviewCnt       88774 non-null  object\n",
      " 6   ratingAvg       88774 non-null  object\n",
      " 7   productImg      88773 non-null  object\n",
      " 8   isDiscontinue   88774 non-null  object\n",
      " 9   rankChange      88774 non-null  object\n",
      " 10  rankChangeType  88774 non-null  object\n",
      " 11  brand           88774 non-null  object\n",
      " 12  goodsInfo       88774 non-null  object\n",
      "dtypes: object(13)\n",
      "memory usage: 9.5+ MB\n"
     ]
    }
   ],
   "source": [
    "# 상품명에서 'title' 이란 잘못된 값이 들어가있어서 해당 row를 빼고 새로운 데이터프레임 생성\n",
    "products_df = products [products ['title'] != 'title']\n",
    "products_df.info ()"
   ]
  },
  {
   "cell_type": "code",
   "execution_count": 8,
   "metadata": {},
   "outputs": [
    {
     "data": {
      "text/html": [
       "<div>\n",
       "<style scoped>\n",
       "    .dataframe tbody tr th:only-of-type {\n",
       "        vertical-align: middle;\n",
       "    }\n",
       "\n",
       "    .dataframe tbody tr th {\n",
       "        vertical-align: top;\n",
       "    }\n",
       "\n",
       "    .dataframe thead th {\n",
       "        text-align: right;\n",
       "    }\n",
       "</style>\n",
       "<table border=\"1\" class=\"dataframe\">\n",
       "  <thead>\n",
       "    <tr style=\"text-align: right;\">\n",
       "      <th></th>\n",
       "      <th>id</th>\n",
       "      <th>rank</th>\n",
       "      <th>title</th>\n",
       "      <th>volume</th>\n",
       "      <th>price</th>\n",
       "      <th>reviewCnt</th>\n",
       "      <th>ratingAvg</th>\n",
       "      <th>productImg</th>\n",
       "      <th>isDiscontinue</th>\n",
       "      <th>rankChange</th>\n",
       "      <th>rankChangeType</th>\n",
       "      <th>brand</th>\n",
       "      <th>goodsInfo</th>\n",
       "    </tr>\n",
       "  </thead>\n",
       "  <tbody>\n",
       "  </tbody>\n",
       "</table>\n",
       "</div>"
      ],
      "text/plain": [
       "Empty DataFrame\n",
       "Columns: [id, rank, title, volume, price, reviewCnt, ratingAvg, productImg, isDiscontinue, rankChange, rankChangeType, brand, goodsInfo]\n",
       "Index: []"
      ]
     },
     "execution_count": 8,
     "metadata": {},
     "output_type": "execute_result"
    }
   ],
   "source": [
    "products_df [products_df ['title'] == 'title']"
   ]
  },
  {
   "cell_type": "code",
   "execution_count": 9,
   "metadata": {},
   "outputs": [],
   "source": [
    "# 상품 DataFrame 에서 title이 중복된 row중 리뷰수가 50보다 작은 row를 삭제하기 위해 \n",
    "# 해당 아이디 리스트를 리턴\n",
    "def delete_dupli_under_review_cnt (df, count = 50):\n",
    "    df_dupl = df.groupby ('title').filter (lambda x : len (x) > 2)\n",
    "\n",
    "    # rank 와 reviewCnt 형변환. object to int64\n",
    "    type_change_cols = ['rank', 'reviewCnt']\n",
    "\n",
    "    df_dupl [type_change_cols] = df_dupl [type_change_cols].astype ('int')\n",
    "\n",
    "    # 리뷰수가 50보다 작은 row는 삭제할 것임\n",
    "    df_dupl = df_dupl [df_dupl ['reviewCnt'] < count]\n",
    "\n",
    "    return df_dupl ['id'].values.tolist ()"
   ]
  },
  {
   "cell_type": "code",
   "execution_count": 12,
   "metadata": {},
   "outputs": [
    {
     "name": "stdout",
     "output_type": "stream",
     "text": [
      "['90184', '106523', '118990', '54313', '27012', '80340', '23213', '45933', '80411', '95254', '23946', '4986', '23854', '99098', '85599', '24415', '93886', '74432', '98682', '98683', '101347', '103503', '79768', '68489', '123573', '9722', '97669', '109407', '23930', '3910', '94672', '130285', '80553', '40806', '108236', '48241', '16973', '73521', '90415', '18903', '18564', '131684', '15096', '122495', '126356', '126366', '126405', '33912', '1535', '2411', '1547', '55729', '99204', '124077', '118197', '14428', '2297', '48509', '57005', '2977', '95029', '115421', '78861', '20117', '1909', '1527', '110444', '101978', '104183', '110515', '103033', '109813', '96839', '125748', '132436', '35916', '20953', '14424', '125991', '101584', '80520', '93813', '82058', '24390', '63357', '77665', '20352', '106195', '130862', '107435', '79731', '91776', '108445', '79738', '113391', '113392', '1336', '26129', '29228', '53637', '33858', '26155', '115047', '109452', '32121', '30690', '70465', '32086', '32088', '31838', '93752', '111492', '30778', '70461', '80839', '89391', '100816', '89390', '111491', '47237', '61325', '120309', '70521', '61777', '17920', '62673', '28115', '71105', '80871', '119987', '129449', '63377', '81819', '115976', '61669', '61341', '80838', '23393', '32114', '73246', '9045', '6006', '56001', '24403', '130912', '55797', '85381', '83358', '124025', '6832', '122162', '102516', '25689', '18075', '91453', '99339', '11922', '75654', '84306', '99332', '99405', '99552', '60352', '14238', '11508', '23216', '97261', '99551', '99557', '1671', '52497', '55993', '89151', '95272', '98784', '98862', '112169', '61857', '93382', '108768', '19808', '98864', '126271', '23855', '24414', '99544', '119573', '160', '84850', '25168', '90110', '71947', '6024', '2914', '22028', '124411', '84331', '99331', '16985', '9046', '83014', '11928', '10287', '54897', '129272', '113156', '128498', '126994', '104901', '129336', '82130', '11180', '101560', '90077', '63789', '80071', '126838', '127565', '5981', '9794', '65765', '116016', '22426', '128542', '85489', '130824', '82133', '33556', '60497', '24427', '112236', '2902', '112768', '132154', '132251', '132256', '132273', '132276', '73708', '30567', '61609', '118945', '88678', '77667', '51641', '4083', '123879', '101227', '86586', '105208', '123512', '105116', '121157', '111354', '55089', '89150', '90004', '73009', '125824', '13975', '84072', '65581', '78554', '106537', '119996', '98452', '77378', '107222', '112312', '126292', '102842', '78322', '19807', '118664', '43110', '35313', '27377', '73310', '12139', '22559', '122962', '132953', '132963', '132989', '133034', '133037', '133183', '133201', '59371', '85212', '85213', '104051', '70345', '81182', '61333', '32089', '103128', '61273', '70537', '80873', '28200', '29545', '61011', '61281', '61501', '17909', '28984', '62633', '66597', '62661', '28559', '61353', '61337', '16329', '59018', '86192', '10676', '28759', '80135', '78134', '26070', '85987', '65149', '78389', '87947', '85373', '88761', '95163', '28435', '4750', '60833', '27935', '126934', '77655', '80823', '131341', '132594', '23180', '26068', '86816', '124071', '124205', '52589', '18407', '90244', '85214', '23400', '17914', '24336', '99329', '85215', '29544', '29667', '87119', '131723', '127755', '24335', '28554', '130718', '69777', '132122', '18924', '81815', '127948', '129444', '17910', '18925', '61245', '66613', '129447', '61837', '28769', '86472', '86471', '124319', '85216', '94141', '18926', '62649', '62637', '28114', '61035', '125420', '17911', '28201', '61801', '62809', '63829', '66997', '81822', '93748', '61329', '28770', '93746', '131997', '111808', '4749', '90243', '132593', '133581', '123650', '78135', '102311', '50837', '93745', '9026', '18405', '75217', '126742', '126049', '23737', '90686', '102510', '4719', '77666', '111992', '60626', '119647', '76018', '97651', '97351', '111990', '113772', '121774', '133573', '23748', '108348', '77663', '101287', '74278', '128346', '121491', '81025', '74746', '89322', '116878', '73515', '74824', '103359', '113010', '27131', '87683', '102260', '58853', '31364', '103071', '50481', '59666', '40965', '72257', '86740', '77614', '21111', '116101', '85799', '108737', '99054', '16210', '74943', '79092', '116156', '132307', '112024', '131393', '23987', '117137', '30535', '74839', '77659', '103252', '109712', '116977', '132004', '102824', '123714', '126947', '36810', '21746', '84154', '1985', '24412', '114552', '8771', '16161', '74247', '98973', '16101', '130674', '125231', '119649', '8770', '107419', '4722', '59087', '109097', '84335', '61893', '83104', '67485', '64729', '132803', '57101', '109946', '87462', '102878', '59810', '88852', '104223', '131340', '132829', '103813', '106522', '118992', '29058', '96178', '92690', '34508', '63321', '53565', '98873', '126957', '23347', '71734', '72671', '6157', '56577', '129207', '91487', '15903', '19427', '22366', '23014', '71731', '123556', '5836', '106020', '104281', '112222', '83305', '131494', '131501', '131503', '131510', '131507', '131508', '131512', '131498', '131514', '131520', '77170', '121138', '115483', '129921', '103814', '106520', '118989', '132984', '132987', '132988', '132991', '133106', '133215', '99819', '97721', '119574', '92237', '89146', '18408', '120243', '94112', '78555', '130305', '101430', '117991', '99520', '115364', '105347', '110521', '98569', '91103', '108342', '115323', '101075', '84357', '32087', '31837', '111490', '70457', '129735', '128643', '122286', '61261', '103843', '111668', '108466', '124541', '9025', '31363', '131299', '96025', '74748', '21240', '112220', '119780', '116884', '117222', '119688', '114460', '113941', '104805', '88890', '4939', '79190', '103248', '17582', '125282', '125066', '77660', '87149', '127749', '80173', '100874', '95628', '30569', '24127', '100940', '85800', '114448', '115853', '96232', '106282', '101191', '28433', '125888', '80572', '17932', '73520', '96224', '88938', '71735', '87949', '131174', '72718', '98870', '133713', '116543', '87441', '2044', '94674', '49125', '84042', '88198', '73244', '79748', '108444', '101169', '83302', '46165', '73283', '93032', '19953', '19826', '89086', '21670', '25794', '1868', '25156', '98657', '98681', '105880', '206', '18686', '89163', '88840', '44517', '80061', '6354', '5000', '5978', '63809', '123158', '99432', '2207', '83234', '131601', '1984', '54525', '122177', '20249', '5980', '116014', '71904', '100043', '13988', '45577', '19821', '6831', '126334', '93874', '13998', '80132', '4976', '24409', '89161', '120510', '53645', '2037', '78399', '4451', '84301', '70781', '46169', '44537', '82405', '92947', '97689', '128181', '9799', '63821', '92951', '96234', '124065', '121776', '45373', '75740', '96218', '96164', '98653', '112121', '129494', '116565', '118268', '105783', '22927', '84632', '129084', '126081', '107189', '110762', '103383', '104372', '60898', '126059', '91942', '5831', '457', '80235', '98880', '108022', '119267', '22966', '125287', '101928', '9022', '26815', '2437', '108684', '127994', '106783', '33419', '22724', '118376', '108983', '123527', '94179', '71209', '89100', '22923', '22234', '3755', '2364', '9030', '96036', '115986', '83904', '22605', '93625', '124737', '132385', '130043', '113777', '128583', '15312', '11047', '18402', '104743', '79406', '20299', '74168', '73716', '73958', '121080', '121638', '109816', '131713', '132435', '93037', '107166', '102965', '84409', '16125', '105136', '4166', '23755', '114452', '103250', '9044', '26015', '115220', '114376', '119272', '115219', '55825', '71838', '75737', '15901', '107516', '11088', '130180', '92683', '82696', '6099', '9879', '30278', '132419', '1316', '115893', '75750', '107730', '21456', '123711', '71733', '123558', '84021', '108390', '102928', '40116', '69417', '72433', '94639', '86132', '276', '122165', '108231', '96838', '97129', '125747', '125963', '132437', '132901', '91299', '46557', '30534', '22606', '84019', '80806', '125405', '83069', '123775', '123993', '66889', '72857', '90991', '112074', '4593', '19669', '11129', '108425', '106780', '108742', '82178', '113140', '133706', '119268', '97688', '103929', '99917', '92369', '113625', '84140', '89437', '46189', '102543', '82450', '98860', '121640', '13986', '65741', '6341', '55257', '56017', '9800', '102694', '127568', '5003', '87909', '119991', '129162', '100188', '118240', '133127', '133129', '133214', '133111', '133132', '133195', '133121', '133203', '133208', '78331', '64633', '92368', '5983', '116017', '1643', '4994', '6336', '13982', '63801', '73489', '127234', '65629', '127218', '77915', '127979', '78526', '126345', '131791', '128', '89147', '108026', '103397', '7088', '113060', '3101', '74360', '102973', '126751', '68325', '75212', '75670', '109759', '121721', '95367', '89148', '105875', '16053', '94608', '124861', '41562', '9039', '5933', '4164', '118610', '50269', '6119', '129259', '99903', '106689', '130048', '17867', '19419', '39486', '96561', '98877', '109345', '23279', '33952', '55489', '23278', '25123', '8658', '122213', '127284', '112268', '24696', '65389', '72438', '98613', '65421', '79855', '108798', '74612', '89214', '75058', '72929', '81693', '60549', '21279', '109246', '93208', '104500', '104905', '124155', '18844', '75159', '93203', '104502', '18842', '113870', '47885', '10998', '19491', '64373', '121142', '72758', '94748', '105252', '115023', '100913', '89337', '117806', '80474', '22733', '9040', '5932', '115889', '102872', '85180', '49865', '95275', '129901', '77649', '112398', '101571', '115972', '45361', '85179', '22835', '98031', '23822', '6657', '15113', '14011', '126068', '120788', '126070', '103910', '122215', '134095', '113034', '75523', '4163', '9488', '110970', '124256', '130412', '97959', '22718', '6036', '94611', '6083', '63297', '9038', '109776', '73514', '17868', '103239', '30616', '87723', '107094', '15915', '21249', '91456', '96236', '22681', '73276', '101956', '14753', '109046', '126209', '94212', '123196', '17539', '22739', '121769', '28458', '119696', '121773', '74154', '46813', '19544', '17534', '23449', '82953', '9042', '129511', '87952', '103370', '74240', '88313', '126508', '22682', '26186', '109349', '119269', '110511', '115847', '129574', '85630', '109351', '15115', '4073', '78271', '18670', '123839', '133477', '85920', '87095', '98008', '127412', '131567', '102691', '73848', '97277', '91839', '96912', '56005', '74094', '103997', '96610', '55813', '105565', '39462', '1732', '72911', '26100', '16898', '103266', '20511', '93678', '6335', '27479', '121966', '125042', '87913', '13984', '95418', '101924', '76311', '44465', '66405', '9048', '9801', '65737', '98859', '108499', '108500', '5004', '18409', '76534', '76628', '3072', '97705', '26502', '101180', '83327', '92579', '76403', '98114', '98680', '132747', '106577', '121449', '668', '2426', '1055', '103773', '108335', '19394', '1122', '52253', '122953', '124931', '22536', '132685', '127409', '107515', '77260', '126385', '11589', '78489', '79211', '101224', '102699', '2048', '6328', '9833', '9047', '95997', '81669', '64065', '76176', '14154', '4995', '11620', '13981', '58665', '63813', '65733', '73492', '88845', '119050', '127572', '130383', '74986', '75553', '98454', '97135', '98602', '118577', '125750', '79089', '95236', '83990', '44393', '112880', '85918', '124665', '1651', '130407', '107154', '112895', '115034', '112912', '87647', '88115', '88843', '119660', '130418', '88142', '116690', '88692', '79808', '88060', '88337', '133651', '126749', '15326', '79795', '57705', '6023', '76087', '4436', '19450', '99547', '8518', '97349', '64129', '25426', '72858', '98780', '109122', '93765', '3687', '92398', '91654', '120619', '125410', '121772', '130011', '34326', '106524', '103811', '118988', '114295', '20374', '113022', '39357', '111014', '53013', '38289', '128910', '54749', '81010', '33876', '71877', '34140', '68757', '106201', '26704', '81051', '10541', '123701', '124470', '81701', '84378', '26993', '103380', '112359', '34035', '22118', '24931', '108739', '123997', '125409', '126922', '16975', '56397', '74915', '110086', '64585', '22607', '58157', '94232', '94774', '126713', '110524', '85403', '75216', '126739', '84194', '97849', '110504', '114624', '13229', '110090', '73326', '64213', '100542', '84856', '45357', '104434', '41874', '4747', '86997', '68245', '109600', '97352', '133576', '83066', '92742', '130676', '101868', '77685', '116931', '114923', '100992', '124822', '85512', '111552', '96420', '116925', '126216', '121048', '100618', '90308', '133060', '133092', '133202', '133204', '133220', '133231', '133273', '133275']\n"
     ]
    }
   ],
   "source": [
    "del_id_list = delete_dupli_under_review_cnt (products_df)\n",
    "print (del_id_list)"
   ]
  },
  {
   "cell_type": "code",
   "execution_count": 13,
   "metadata": {},
   "outputs": [
    {
     "data": {
      "text/plain": [
       "1355"
      ]
     },
     "execution_count": 13,
     "metadata": {},
     "output_type": "execute_result"
    }
   ],
   "source": [
    "len (del_id_list)"
   ]
  },
  {
   "cell_type": "code",
   "execution_count": 16,
   "metadata": {},
   "outputs": [
    {
     "data": {
      "text/plain": [
       "89059"
      ]
     },
     "execution_count": 16,
     "metadata": {},
     "output_type": "execute_result"
    }
   ],
   "source": [
    "len (products)"
   ]
  },
  {
   "cell_type": "code",
   "execution_count": 17,
   "metadata": {},
   "outputs": [
    {
     "data": {
      "text/plain": [
       "88774"
      ]
     },
     "execution_count": 17,
     "metadata": {},
     "output_type": "execute_result"
    }
   ],
   "source": [
    "len (products_df)"
   ]
  },
  {
   "cell_type": "code",
   "execution_count": 18,
   "metadata": {},
   "outputs": [
    {
     "data": {
      "text/html": [
       "<div>\n",
       "<style scoped>\n",
       "    .dataframe tbody tr th:only-of-type {\n",
       "        vertical-align: middle;\n",
       "    }\n",
       "\n",
       "    .dataframe tbody tr th {\n",
       "        vertical-align: top;\n",
       "    }\n",
       "\n",
       "    .dataframe thead th {\n",
       "        text-align: right;\n",
       "    }\n",
       "</style>\n",
       "<table border=\"1\" class=\"dataframe\">\n",
       "  <thead>\n",
       "    <tr style=\"text-align: right;\">\n",
       "      <th></th>\n",
       "      <th>id</th>\n",
       "      <th>rank</th>\n",
       "      <th>title</th>\n",
       "      <th>volume</th>\n",
       "      <th>price</th>\n",
       "      <th>reviewCnt</th>\n",
       "      <th>ratingAvg</th>\n",
       "      <th>productImg</th>\n",
       "      <th>isDiscontinue</th>\n",
       "      <th>rankChange</th>\n",
       "      <th>rankChangeType</th>\n",
       "      <th>brand</th>\n",
       "      <th>goodsInfo</th>\n",
       "    </tr>\n",
       "  </thead>\n",
       "  <tbody>\n",
       "    <tr>\n",
       "      <th>0</th>\n",
       "      <td>108711</td>\n",
       "      <td>5</td>\n",
       "      <td>코스메티 LED 마스크</td>\n",
       "      <td>1ea</td>\n",
       "      <td>219000</td>\n",
       "      <td>4</td>\n",
       "      <td>3.75</td>\n",
       "      <td>https://d9vmi5fxk1gsw.cloudfront.net/home/glow...</td>\n",
       "      <td>False</td>\n",
       "      <td>0</td>\n",
       "      <td>show</td>\n",
       "      <td>{'idBrand': None, 'brandTitle': '아름다운연구소', 'br...</td>\n",
       "      <td>{'goodsCount': 0}</td>\n",
       "    </tr>\n",
       "    <tr>\n",
       "      <th>1</th>\n",
       "      <td>118971</td>\n",
       "      <td>6</td>\n",
       "      <td>LED 마스크</td>\n",
       "      <td>1ea</td>\n",
       "      <td>149000</td>\n",
       "      <td>2</td>\n",
       "      <td>4.0</td>\n",
       "      <td>https://d9vmi5fxk1gsw.cloudfront.net/home/glow...</td>\n",
       "      <td>False</td>\n",
       "      <td>0</td>\n",
       "      <td>show</td>\n",
       "      <td>{'idBrand': None, 'brandTitle': '에끌레어 (eclair)...</td>\n",
       "      <td>{'goodsCount': 0}</td>\n",
       "    </tr>\n",
       "    <tr>\n",
       "      <th>2</th>\n",
       "      <td>118819</td>\n",
       "      <td>7</td>\n",
       "      <td>디쎄 1.0 LED 마스크 [업무용]</td>\n",
       "      <td>1ea</td>\n",
       "      <td>1320000</td>\n",
       "      <td>1</td>\n",
       "      <td>5.0</td>\n",
       "      <td>https://d9vmi5fxk1gsw.cloudfront.net/home/glow...</td>\n",
       "      <td>False</td>\n",
       "      <td>0</td>\n",
       "      <td>show</td>\n",
       "      <td>{'idBrand': None, 'brandTitle': '닥터슈라클 (Dr.Ceu...</td>\n",
       "      <td>{'goodsCount': 0}</td>\n",
       "    </tr>\n",
       "    <tr>\n",
       "      <th>3</th>\n",
       "      <td>90929</td>\n",
       "      <td>8</td>\n",
       "      <td>LED 리얼 마스크</td>\n",
       "      <td>1ea</td>\n",
       "      <td>198000</td>\n",
       "      <td>1</td>\n",
       "      <td>4.0</td>\n",
       "      <td>https://d9vmi5fxk1gsw.cloudfront.net/home/glow...</td>\n",
       "      <td>False</td>\n",
       "      <td>0</td>\n",
       "      <td>show</td>\n",
       "      <td>{'idBrand': None, 'brandTitle': '솔루미에스테 (SOLLU...</td>\n",
       "      <td>{'goodsCount': 0}</td>\n",
       "    </tr>\n",
       "    <tr>\n",
       "      <th>4</th>\n",
       "      <td>127206</td>\n",
       "      <td>9</td>\n",
       "      <td>인텐시브 LED 마스크 프리미엄</td>\n",
       "      <td>1ea</td>\n",
       "      <td>1517100</td>\n",
       "      <td>1</td>\n",
       "      <td>5.0</td>\n",
       "      <td>https://d9vmi5fxk1gsw.cloudfront.net/home/glow...</td>\n",
       "      <td>False</td>\n",
       "      <td>0</td>\n",
       "      <td>show</td>\n",
       "      <td>{'idBrand': None, 'brandTitle': '엘리닉 (L Linic)...</td>\n",
       "      <td>{'goodsCount': 0}</td>\n",
       "    </tr>\n",
       "  </tbody>\n",
       "</table>\n",
       "</div>"
      ],
      "text/plain": [
       "       id rank                 title volume    price reviewCnt ratingAvg  \\\n",
       "0  108711    5          코스메티 LED 마스크    1ea   219000         4      3.75   \n",
       "1  118971    6               LED 마스크    1ea   149000         2       4.0   \n",
       "2  118819    7  디쎄 1.0 LED 마스크 [업무용]    1ea  1320000         1       5.0   \n",
       "3   90929    8            LED 리얼 마스크    1ea   198000         1       4.0   \n",
       "4  127206    9     인텐시브 LED 마스크 프리미엄    1ea  1517100         1       5.0   \n",
       "\n",
       "                                          productImg isDiscontinue rankChange  \\\n",
       "0  https://d9vmi5fxk1gsw.cloudfront.net/home/glow...         False          0   \n",
       "1  https://d9vmi5fxk1gsw.cloudfront.net/home/glow...         False          0   \n",
       "2  https://d9vmi5fxk1gsw.cloudfront.net/home/glow...         False          0   \n",
       "3  https://d9vmi5fxk1gsw.cloudfront.net/home/glow...         False          0   \n",
       "4  https://d9vmi5fxk1gsw.cloudfront.net/home/glow...         False          0   \n",
       "\n",
       "  rankChangeType                                              brand  \\\n",
       "0           show  {'idBrand': None, 'brandTitle': '아름다운연구소', 'br...   \n",
       "1           show  {'idBrand': None, 'brandTitle': '에끌레어 (eclair)...   \n",
       "2           show  {'idBrand': None, 'brandTitle': '닥터슈라클 (Dr.Ceu...   \n",
       "3           show  {'idBrand': None, 'brandTitle': '솔루미에스테 (SOLLU...   \n",
       "4           show  {'idBrand': None, 'brandTitle': '엘리닉 (L Linic)...   \n",
       "\n",
       "           goodsInfo  \n",
       "0  {'goodsCount': 0}  \n",
       "1  {'goodsCount': 0}  \n",
       "2  {'goodsCount': 0}  \n",
       "3  {'goodsCount': 0}  \n",
       "4  {'goodsCount': 0}  "
      ]
     },
     "execution_count": 18,
     "metadata": {},
     "output_type": "execute_result"
    }
   ],
   "source": [
    "products_refined = products_df [~products_df ['id'].isin (del_id_list)]\n",
    "products_refined.head ()"
   ]
  },
  {
   "cell_type": "code",
   "execution_count": 20,
   "metadata": {},
   "outputs": [
    {
     "data": {
      "text/plain": [
       "87419"
      ]
     },
     "execution_count": 20,
     "metadata": {},
     "output_type": "execute_result"
    }
   ],
   "source": [
    "len (products_df) - len (del_id_list)"
   ]
  },
  {
   "cell_type": "code",
   "execution_count": 19,
   "metadata": {},
   "outputs": [
    {
     "data": {
      "text/plain": [
       "87419"
      ]
     },
     "execution_count": 19,
     "metadata": {},
     "output_type": "execute_result"
    }
   ],
   "source": [
    "len (products_refined)"
   ]
  },
  {
   "cell_type": "code",
   "execution_count": 22,
   "metadata": {},
   "outputs": [
    {
     "data": {
      "text/html": [
       "<div>\n",
       "<style scoped>\n",
       "    .dataframe tbody tr th:only-of-type {\n",
       "        vertical-align: middle;\n",
       "    }\n",
       "\n",
       "    .dataframe tbody tr th {\n",
       "        vertical-align: top;\n",
       "    }\n",
       "\n",
       "    .dataframe thead th {\n",
       "        text-align: right;\n",
       "    }\n",
       "</style>\n",
       "<table border=\"1\" class=\"dataframe\">\n",
       "  <thead>\n",
       "    <tr style=\"text-align: right;\">\n",
       "      <th></th>\n",
       "      <th>id</th>\n",
       "      <th>rank</th>\n",
       "      <th>title</th>\n",
       "      <th>volume</th>\n",
       "      <th>price</th>\n",
       "      <th>reviewCnt</th>\n",
       "      <th>ratingAvg</th>\n",
       "      <th>productImg</th>\n",
       "      <th>isDiscontinue</th>\n",
       "      <th>rankChange</th>\n",
       "      <th>rankChangeType</th>\n",
       "      <th>brand</th>\n",
       "      <th>goodsInfo</th>\n",
       "    </tr>\n",
       "  </thead>\n",
       "  <tbody>\n",
       "    <tr>\n",
       "      <th>15138</th>\n",
       "      <td>3108</td>\n",
       "      <td>17</td>\n",
       "      <td>립스틱</td>\n",
       "      <td>3g</td>\n",
       "      <td>31000.0</td>\n",
       "      <td>10508</td>\n",
       "      <td>4.17</td>\n",
       "      <td>https://d9vmi5fxk1gsw.cloudfront.net/home/glow...</td>\n",
       "      <td>False</td>\n",
       "      <td>2</td>\n",
       "      <td>show</td>\n",
       "      <td>{'idBrand': None, 'brandTitle': '맥 (MAC)', 'br...</td>\n",
       "      <td>{'goodsCount': 0}</td>\n",
       "    </tr>\n",
       "    <tr>\n",
       "      <th>15486</th>\n",
       "      <td>12</td>\n",
       "      <td>0</td>\n",
       "      <td>립스틱</td>\n",
       "      <td>3.4g</td>\n",
       "      <td>37000.0</td>\n",
       "      <td>713</td>\n",
       "      <td>4.08</td>\n",
       "      <td>https://d9vmi5fxk1gsw.cloudfront.net/home/glow...</td>\n",
       "      <td>True</td>\n",
       "      <td>0</td>\n",
       "      <td>hide</td>\n",
       "      <td>{'idBrand': None, 'brandTitle': '나스 (NARS)', '...</td>\n",
       "      <td>{'goodsCount': 0}</td>\n",
       "    </tr>\n",
       "  </tbody>\n",
       "</table>\n",
       "</div>"
      ],
      "text/plain": [
       "         id rank title volume    price reviewCnt ratingAvg  \\\n",
       "15138  3108   17   립스틱     3g  31000.0     10508      4.17   \n",
       "15486    12    0   립스틱   3.4g  37000.0       713      4.08   \n",
       "\n",
       "                                              productImg isDiscontinue  \\\n",
       "15138  https://d9vmi5fxk1gsw.cloudfront.net/home/glow...         False   \n",
       "15486  https://d9vmi5fxk1gsw.cloudfront.net/home/glow...          True   \n",
       "\n",
       "      rankChange rankChangeType  \\\n",
       "15138          2           show   \n",
       "15486          0           hide   \n",
       "\n",
       "                                                   brand          goodsInfo  \n",
       "15138  {'idBrand': None, 'brandTitle': '맥 (MAC)', 'br...  {'goodsCount': 0}  \n",
       "15486  {'idBrand': None, 'brandTitle': '나스 (NARS)', '...  {'goodsCount': 0}  "
      ]
     },
     "execution_count": 22,
     "metadata": {},
     "output_type": "execute_result"
    }
   ],
   "source": [
    "products_refined [products_refined ['title'] == '립스틱']"
   ]
  },
  {
   "cell_type": "code",
   "execution_count": 21,
   "metadata": {},
   "outputs": [
    {
     "data": {
      "text/plain": [
       "메이크업 베이스                             3\n",
       "모이스춰라이징 로션                           3\n",
       "올 어라운드 세이프 블록 에센스 선 [SPF45/PA+++]    3\n",
       "화산송이 모공 폼                            3\n",
       "블러쉬                                  3\n",
       "                                    ..\n",
       "잉크드 컬러링 브로우                          1\n",
       "나인티 부스팅 비피다 크림                       1\n",
       "데일리 프로텍션 [SPF50+]                    1\n",
       "더 에스테 유스 토너                          1\n",
       "쉬머링 멀티 크림                            1\n",
       "Name: title, Length: 86056, dtype: int64"
      ]
     },
     "execution_count": 21,
     "metadata": {},
     "output_type": "execute_result"
    }
   ],
   "source": [
    "products_refined ['title'].value_counts ()"
   ]
  },
  {
   "cell_type": "code",
   "execution_count": 11,
   "metadata": {},
   "outputs": [
    {
     "data": {
      "text/plain": [
       "립스틱                      True\n",
       "파운데이션 브러쉬                True\n",
       "베이비 로션                   True\n",
       "크림                       True\n",
       "파우더 브러쉬                  True\n",
       "                        ...  \n",
       "치-치크 블러셔                False\n",
       "젤프레소 워터프루프 파스텔 어퍼라이너    False\n",
       "틴트 글로우 젤                False\n",
       "제주 화산토 딥포어 모공팩          False\n",
       "쉬머링 멀티 크림               False\n",
       "Name: title, Length: 86268, dtype: bool"
      ]
     },
     "execution_count": 11,
     "metadata": {},
     "output_type": "execute_result"
    }
   ],
   "source": [
    "products_df ['title'].value_counts () > 2"
   ]
  },
  {
   "cell_type": "code",
   "execution_count": null,
   "metadata": {},
   "outputs": [],
   "source": [
    "products_df_dupl = products_df.groupby ('title').filter (lambda x : len (x) > 2)\n",
    "products_df_dupl.head (3)"
   ]
  },
  {
   "cell_type": "code",
   "execution_count": null,
   "metadata": {},
   "outputs": [],
   "source": [
    "# rank 와 reviewCnt 형변환. object to int64\n",
    "type_change_cols = ['rank', 'reviewCnt']\n",
    "\n",
    "products_df_dupl [type_change_cols] = products_df_dupl [type_change_cols].astype ('int')\n",
    "\n",
    "products_df_dupl.info ()"
   ]
  },
  {
   "cell_type": "code",
   "execution_count": null,
   "metadata": {},
   "outputs": [],
   "source": [
    "len (products_df_dupl)"
   ]
  },
  {
   "cell_type": "code",
   "execution_count": null,
   "metadata": {},
   "outputs": [],
   "source": [
    "products_df_dupl ['title'].value_counts ().values"
   ]
  },
  {
   "cell_type": "code",
   "execution_count": null,
   "metadata": {},
   "outputs": [],
   "source": [
    "products_df_reduce = products_df_dupl [products_df_dupl ['reviewCnt'] >= 50]\n",
    "products_df_reduce.info ()"
   ]
  },
  {
   "cell_type": "code",
   "execution_count": null,
   "metadata": {},
   "outputs": [],
   "source": [
    "products_df_reduce ['title'].value_counts ().values"
   ]
  },
  {
   "cell_type": "code",
   "execution_count": null,
   "metadata": {},
   "outputs": [],
   "source": [
    "products_df_reduce ['id'].values"
   ]
  },
  {
   "cell_type": "code",
   "execution_count": null,
   "metadata": {},
   "outputs": [],
   "source": [
    "products_df_delete = products_df_dupl [products_df_dupl ['reviewCnt'] < 50]\n",
    "products_df_delete.info ()"
   ]
  },
  {
   "cell_type": "code",
   "execution_count": null,
   "metadata": {},
   "outputs": [],
   "source": [
    "products_df_delete.head ()"
   ]
  },
  {
   "cell_type": "code",
   "execution_count": null,
   "metadata": {},
   "outputs": [],
   "source": [
    "products_df_delete ['title'].value_counts ()"
   ]
  },
  {
   "cell_type": "code",
   "execution_count": null,
   "metadata": {},
   "outputs": [],
   "source": [
    "products_df_delete ['id'].values"
   ]
  },
  {
   "cell_type": "code",
   "execution_count": null,
   "metadata": {},
   "outputs": [],
   "source": [
    "len (products_df_delete ['id'].values)"
   ]
  },
  {
   "cell_type": "code",
   "execution_count": null,
   "metadata": {},
   "outputs": [],
   "source": []
  },
  {
   "cell_type": "code",
   "execution_count": null,
   "metadata": {},
   "outputs": [],
   "source": [
    "products_df_dupl ['reviewCnt'].sum ()"
   ]
  },
  {
   "cell_type": "code",
   "execution_count": null,
   "metadata": {},
   "outputs": [],
   "source": [
    "products_df_dupl.info ()"
   ]
  },
  {
   "cell_type": "code",
   "execution_count": null,
   "metadata": {},
   "outputs": [],
   "source": [
    "products_df_dupl.head (3)"
   ]
  },
  {
   "cell_type": "code",
   "execution_count": null,
   "metadata": {},
   "outputs": [],
   "source": []
  },
  {
   "cell_type": "code",
   "execution_count": null,
   "metadata": {},
   "outputs": [],
   "source": [
    "products [products ['title'] == '파운데이션 브러쉬']"
   ]
  },
  {
   "cell_type": "code",
   "execution_count": null,
   "metadata": {},
   "outputs": [],
   "source": [
    "products [products ['title'] == '립스틱']"
   ]
  },
  {
   "cell_type": "code",
   "execution_count": null,
   "metadata": {},
   "outputs": [],
   "source": [
    "products [products ['title'] == '베이비 로션']"
   ]
  },
  {
   "cell_type": "code",
   "execution_count": null,
   "metadata": {},
   "outputs": [],
   "source": []
  },
  {
   "cell_type": "code",
   "execution_count": null,
   "metadata": {},
   "outputs": [],
   "source": []
  },
  {
   "cell_type": "code",
   "execution_count": null,
   "metadata": {},
   "outputs": [],
   "source": []
  },
  {
   "cell_type": "code",
   "execution_count": null,
   "metadata": {},
   "outputs": [],
   "source": []
  },
  {
   "cell_type": "code",
   "execution_count": null,
   "metadata": {},
   "outputs": [],
   "source": []
  },
  {
   "cell_type": "code",
   "execution_count": null,
   "metadata": {},
   "outputs": [],
   "source": [
    "reviews_copy = reviews.copy (deep = True)\n",
    "reviews_copy.info ()"
   ]
  },
  {
   "cell_type": "code",
   "execution_count": null,
   "metadata": {},
   "outputs": [],
   "source": [
    "reviews_copy.head ()"
   ]
  },
  {
   "cell_type": "code",
   "execution_count": null,
   "metadata": {},
   "outputs": [],
   "source": [
    "reviews ['user_id'].count ()"
   ]
  },
  {
   "cell_type": "code",
   "execution_count": null,
   "metadata": {},
   "outputs": [],
   "source": [
    "len (reviews)"
   ]
  },
  {
   "cell_type": "code",
   "execution_count": null,
   "metadata": {},
   "outputs": [],
   "source": [
    "over2_reviews = reviews.groupby ('user_id').filter (lambda x : len (x) >= 2)\n",
    "over2_reviews"
   ]
  },
  {
   "cell_type": "code",
   "execution_count": null,
   "metadata": {},
   "outputs": [],
   "source": [
    "reviews [reviews ['user_id'] == 10534]"
   ]
  },
  {
   "cell_type": "code",
   "execution_count": null,
   "metadata": {},
   "outputs": [],
   "source": [
    "under2_reviews = reviews.groupby ('user_id').filter (lambda x : len (x) < 2)\n",
    "under2_reviews"
   ]
  },
  {
   "cell_type": "code",
   "execution_count": null,
   "metadata": {},
   "outputs": [],
   "source": [
    "reviews [reviews ['user_id'] == 682954]"
   ]
  },
  {
   "cell_type": "code",
   "execution_count": null,
   "metadata": {},
   "outputs": [],
   "source": [
    "under2_reviews.info ()"
   ]
  },
  {
   "cell_type": "code",
   "execution_count": null,
   "metadata": {},
   "outputs": [],
   "source": [
    "over2_reviews.info ()"
   ]
  },
  {
   "cell_type": "code",
   "execution_count": null,
   "metadata": {},
   "outputs": [],
   "source": [
    "under2_reivews = reviews.groupby ('user_id') [(reviews ['user_id'].value_counts () < 2)]"
   ]
  },
  {
   "cell_type": "code",
   "execution_count": null,
   "metadata": {},
   "outputs": [],
   "source": [
    "# 리뷰를 한번만 쓴 사용자의 리뷰\n",
    "reviews.loc [(reviews ['user_id'].value_counts () < 2).values]\n",
    "# (reviews ['user_id'].value_counts () < 2).values\n",
    "# test_df [test_df ['col3'] != 7]\n",
    "\n",
    "# reviews [reviews ['user_id'].value_counts () < 2]\n"
   ]
  },
  {
   "cell_type": "code",
   "execution_count": null,
   "metadata": {},
   "outputs": [],
   "source": [
    "(reviews ['user_id'].value_counts () > 2).index"
   ]
  },
  {
   "cell_type": "code",
   "execution_count": null,
   "metadata": {},
   "outputs": [],
   "source": [
    "users = pd.read_csv (FILE_PATH + 'users.txt', sep = ',')\n",
    "users.head ()"
   ]
  },
  {
   "cell_type": "code",
   "execution_count": null,
   "metadata": {},
   "outputs": [],
   "source": [
    "print (reviews ['user_id'].value_counts ())"
   ]
  },
  {
   "cell_type": "code",
   "execution_count": null,
   "metadata": {},
   "outputs": [],
   "source": [
    "print (users ['skin_type'].value_counts ())\n",
    "\n",
    "users ['skin_type'].value_counts ().plot.bar ()"
   ]
  },
  {
   "cell_type": "code",
   "execution_count": null,
   "metadata": {},
   "outputs": [],
   "source": []
  },
  {
   "cell_type": "code",
   "execution_count": null,
   "metadata": {},
   "outputs": [],
   "source": [
    "print (users ['skin_type'].value_counts ())\n",
    "\n",
    "skin_type_counts = users ['skin_type'].value_counts ()\n",
    "sns.barplot (x = skin_type_counts.index, y = skin_type_counts)"
   ]
  },
  {
   "cell_type": "code",
   "execution_count": null,
   "metadata": {},
   "outputs": [],
   "source": [
    "users [users ['user_id'] == 119763]"
   ]
  },
  {
   "cell_type": "code",
   "execution_count": null,
   "metadata": {},
   "outputs": [],
   "source": [
    "users.info ()"
   ]
  },
  {
   "cell_type": "code",
   "execution_count": null,
   "metadata": {},
   "outputs": [],
   "source": [
    "reviews ['user_id'].value_counts ()"
   ]
  },
  {
   "cell_type": "code",
   "execution_count": null,
   "metadata": {},
   "outputs": [],
   "source": [
    "(reviews ['user_id'].value_counts () >= 1000).items ()"
   ]
  },
  {
   "cell_type": "code",
   "execution_count": null,
   "metadata": {},
   "outputs": [],
   "source": [
    "li = [k for k, v in (reviews ['user_id'].value_counts () >= 1000).items () if v == True ]\n",
    "print (li [: 20])"
   ]
  },
  {
   "cell_type": "code",
   "execution_count": null,
   "metadata": {},
   "outputs": [],
   "source": [
    "over2_li = [k for k, v in (reviews ['user_id'].value_counts () >= 2).items () if v == True ]\n",
    "print (over2_li [: 20])\n",
    "len (over2_li)"
   ]
  },
  {
   "cell_type": "code",
   "execution_count": null,
   "metadata": {},
   "outputs": [],
   "source": [
    "equal1_list = [k for k, v in (reviews ['user_id'].value_counts () == 1).items () if v == True ]\n",
    "print (equal1_list [: 20])\n",
    "len (equal1_list)"
   ]
  },
  {
   "cell_type": "code",
   "execution_count": null,
   "metadata": {},
   "outputs": [],
   "source": [
    "28896 + 87200"
   ]
  },
  {
   "cell_type": "code",
   "execution_count": null,
   "metadata": {},
   "outputs": [],
   "source": [
    "review_id_list = [k for k, v in (reviews ['user_id'].value_counts () == 1).items ()]\n",
    "print (review_id_list [: 20])\n",
    "print (len (review_id_list))\n",
    "print (review_id_list [-20 :])"
   ]
  },
  {
   "cell_type": "code",
   "execution_count": null,
   "metadata": {},
   "outputs": [],
   "source": [
    "user_id_list = users ['user_id'].values.tolist ()\n",
    "user_id_list [: 10]"
   ]
  },
  {
   "cell_type": "code",
   "execution_count": null,
   "metadata": {},
   "outputs": [],
   "source": [
    "# users에 없는 리뷰를 남긴 아이디 리스트\n",
    "not_in_list = [i for i in review_id_list if i not in user_id_list]\n",
    "not_in_list"
   ]
  },
  {
   "cell_type": "code",
   "execution_count": null,
   "metadata": {},
   "outputs": [],
   "source": [
    "import pickle\n",
    "\n",
    "with open(FILE_PATH + 'not_in_list', 'wb') as fp:\n",
    "    pickle.dump(not_in_list, fp)"
   ]
  },
  {
   "cell_type": "code",
   "execution_count": null,
   "metadata": {},
   "outputs": [],
   "source": [
    "with open (FILE_PATH + 'not_in_list', 'rb') as fp:\n",
    "    load_not_in_list = pickle.load (fp)\n",
    "    \n",
    "len (load_not_in_list)    "
   ]
  },
  {
   "cell_type": "code",
   "execution_count": null,
   "metadata": {},
   "outputs": [],
   "source": [
    "len (not_in_list)"
   ]
  },
  {
   "cell_type": "code",
   "execution_count": null,
   "metadata": {},
   "outputs": [],
   "source": [
    "reviews [reviews ['user_id'] == 901297]"
   ]
  },
  {
   "cell_type": "code",
   "execution_count": null,
   "metadata": {},
   "outputs": [],
   "source": []
  },
  {
   "cell_type": "code",
   "execution_count": null,
   "metadata": {},
   "outputs": [],
   "source": [
    "users [users ['user_id'] == 901297]"
   ]
  },
  {
   "cell_type": "code",
   "execution_count": null,
   "metadata": {},
   "outputs": [],
   "source": [
    "not_in_review_list = [len (reviews [reviews ['user_id'] == i]) for i in not_in_list]\n",
    "not_in_review_list"
   ]
  },
  {
   "cell_type": "code",
   "execution_count": null,
   "metadata": {},
   "outputs": [],
   "source": [
    "with open(FILE_PATH + 'not_in_review_list', 'wb') as fp:\n",
    "    pickle.dump(not_in_review_list, fp)\n",
    "    \n",
    "with open (FILE_PATH + 'not_in_review_list', 'rb') as fp:\n",
    "    load_not_in_review_list = pickle.load (fp)\n",
    "    \n",
    "sum (load_not_in_review_list)    "
   ]
  },
  {
   "cell_type": "code",
   "execution_count": null,
   "metadata": {},
   "outputs": [],
   "source": [
    "sum (not_in_review_list)"
   ]
  },
  {
   "cell_type": "code",
   "execution_count": null,
   "metadata": {},
   "outputs": [],
   "source": [
    "len (reviews)"
   ]
  },
  {
   "cell_type": "code",
   "execution_count": null,
   "metadata": {},
   "outputs": [],
   "source": [
    "reviews.head ()"
   ]
  },
  {
   "cell_type": "code",
   "execution_count": null,
   "metadata": {},
   "outputs": [],
   "source": [
    "del_reviews = reviews [~reviews ['user_id'].isin (not_in_list)]\n",
    "len (del_reviews)"
   ]
  },
  {
   "cell_type": "code",
   "execution_count": null,
   "metadata": {},
   "outputs": [],
   "source": [
    "1574817 - 102265"
   ]
  },
  {
   "cell_type": "code",
   "execution_count": null,
   "metadata": {},
   "outputs": [],
   "source": [
    "reviews ['user_id'] == 901297"
   ]
  },
  {
   "cell_type": "code",
   "execution_count": null,
   "metadata": {},
   "outputs": [],
   "source": [
    "reviews ['user_id'].value_counts ()"
   ]
  },
  {
   "cell_type": "code",
   "execution_count": null,
   "metadata": {},
   "outputs": [],
   "source": [
    "liv = [v for k, v in (reviews ['user_id'].value_counts () == 1).items ()]\n",
    "print (liv [: 20])\n",
    "print (len (liv))"
   ]
  },
  {
   "cell_type": "code",
   "execution_count": null,
   "metadata": {},
   "outputs": [],
   "source": [
    "type (li [0])"
   ]
  },
  {
   "cell_type": "code",
   "execution_count": null,
   "metadata": {},
   "outputs": [],
   "source": [
    "if 708877 in li:\n",
    "    print (True)"
   ]
  },
  {
   "cell_type": "code",
   "execution_count": null,
   "metadata": {},
   "outputs": [],
   "source": [
    "print (users ['age'].value_counts ().head (60))"
   ]
  },
  {
   "cell_type": "code",
   "execution_count": null,
   "metadata": {},
   "outputs": [],
   "source": [
    "print (users ['age'].value_counts ().head (20))\n",
    "users ['age'].value_counts ().plot.bar ()"
   ]
  },
  {
   "cell_type": "code",
   "execution_count": null,
   "metadata": {},
   "outputs": [],
   "source": [
    "print (users ['age'].value_counts ().tail (20))"
   ]
  },
  {
   "cell_type": "code",
   "execution_count": null,
   "metadata": {},
   "outputs": [],
   "source": [
    "users ['age'].unique ()"
   ]
  },
  {
   "cell_type": "code",
   "execution_count": null,
   "metadata": {},
   "outputs": [],
   "source": [
    "print (users ['gender'].value_counts ())\n",
    "\n",
    "gender_counts = users ['gender'].value_counts ()\n",
    "sns.barplot (x = gender_counts.index, y = gender_counts)"
   ]
  },
  {
   "cell_type": "code",
   "execution_count": null,
   "metadata": {},
   "outputs": [],
   "source": [
    "users.info ()"
   ]
  },
  {
   "cell_type": "code",
   "execution_count": null,
   "metadata": {},
   "outputs": [],
   "source": [
    "test_df = pd.DataFrame (data = [[1, 2, 33, 4],\n",
    "                               [4, 1, 2, 6],[1, 2, 43, 4],\n",
    "                               [5, 6, 7, 8],[1, 2, 13, 4],\n",
    "                               [15, 16, 7, 8],\n",
    "                               [9, 10, 11, 12]],\n",
    "                       columns = ['col1', 'col2', 'col3', 'col4'])\n",
    "test_df"
   ]
  },
  {
   "cell_type": "code",
   "execution_count": null,
   "metadata": {},
   "outputs": [],
   "source": [
    "test_df [test_df ['col3'] != 7]"
   ]
  },
  {
   "cell_type": "code",
   "execution_count": null,
   "metadata": {},
   "outputs": [],
   "source": [
    "test_df"
   ]
  },
  {
   "cell_type": "code",
   "execution_count": null,
   "metadata": {},
   "outputs": [],
   "source": [
    "delete_list = [43, 13]\n",
    "test_df [~test_df ['col3'].isin (delete_list)]"
   ]
  },
  {
   "cell_type": "code",
   "execution_count": null,
   "metadata": {},
   "outputs": [],
   "source": []
  },
  {
   "cell_type": "code",
   "execution_count": null,
   "metadata": {},
   "outputs": [],
   "source": []
  },
  {
   "cell_type": "code",
   "execution_count": null,
   "metadata": {},
   "outputs": [],
   "source": []
  },
  {
   "cell_type": "code",
   "execution_count": null,
   "metadata": {},
   "outputs": [],
   "source": []
  },
  {
   "cell_type": "code",
   "execution_count": null,
   "metadata": {},
   "outputs": [],
   "source": []
  },
  {
   "cell_type": "code",
   "execution_count": null,
   "metadata": {},
   "outputs": [],
   "source": []
  },
  {
   "cell_type": "code",
   "execution_count": null,
   "metadata": {},
   "outputs": [],
   "source": []
  },
  {
   "cell_type": "code",
   "execution_count": null,
   "metadata": {},
   "outputs": [],
   "source": []
  },
  {
   "cell_type": "code",
   "execution_count": null,
   "metadata": {},
   "outputs": [],
   "source": []
  },
  {
   "cell_type": "code",
   "execution_count": null,
   "metadata": {},
   "outputs": [],
   "source": []
  },
  {
   "cell_type": "code",
   "execution_count": null,
   "metadata": {},
   "outputs": [],
   "source": []
  },
  {
   "cell_type": "code",
   "execution_count": null,
   "metadata": {},
   "outputs": [],
   "source": []
  },
  {
   "cell_type": "code",
   "execution_count": null,
   "metadata": {},
   "outputs": [],
   "source": []
  }
 ],
 "metadata": {
  "kernelspec": {
   "display_name": "Python 3",
   "language": "python",
   "name": "python3"
  },
  "language_info": {
   "codemirror_mode": {
    "name": "ipython",
    "version": 3
   },
   "file_extension": ".py",
   "mimetype": "text/x-python",
   "name": "python",
   "nbconvert_exporter": "python",
   "pygments_lexer": "ipython3",
   "version": "3.7.7"
  }
 },
 "nbformat": 4,
 "nbformat_minor": 4
}
